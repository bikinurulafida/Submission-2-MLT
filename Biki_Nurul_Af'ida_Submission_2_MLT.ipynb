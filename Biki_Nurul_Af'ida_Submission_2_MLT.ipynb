{
  "nbformat": 4,
  "nbformat_minor": 0,
  "metadata": {
    "colab": {
      "provenance": []
    },
    "kernelspec": {
      "name": "python3",
      "display_name": "Python 3"
    },
    "language_info": {
      "name": "python"
    }
  },
  "cells": [
    {
      "cell_type": "markdown",
      "source": [
        "# Library"
      ],
      "metadata": {
        "id": "PPz0GhQzvKOh"
      }
    },
    {
      "cell_type": "code",
      "source": [
        "import pandas as pd\n",
        "from sklearn.feature_extraction.text import TfidfVectorizer\n",
        "from sklearn.metrics.pairwise import cosine_similarity\n",
        "import numpy as np\n",
        "import matplotlib.pyplot as plt\n",
        "import seaborn as sns"
      ],
      "metadata": {
        "id": "rXjTkMW5vNJs"
      },
      "execution_count": 52,
      "outputs": []
    },
    {
      "cell_type": "markdown",
      "source": [
        "# Data Loading"
      ],
      "metadata": {
        "id": "DKT_uep_RzcD"
      }
    },
    {
      "cell_type": "markdown",
      "source": [
        "Data yang digunakan adalah dataset Goodreads-books yang bersumber dari Kaggle (https://www.kaggle.com/datasets/jealousleopard/goodreadsbooks/data?select=books.csv)"
      ],
      "metadata": {
        "id": "1NgY5qrKWaiz"
      }
    },
    {
      "cell_type": "code",
      "execution_count": 53,
      "metadata": {
        "colab": {
          "base_uri": "https://localhost:8080/",
          "height": 796
        },
        "id": "AUjrjOt8Rcod",
        "outputId": "18142db8-ac3a-4fa6-a633-39f640304078"
      },
      "outputs": [
        {
          "output_type": "stream",
          "name": "stdout",
          "text": [
            "Drive already mounted at /content/drive; to attempt to forcibly remount, call drive.mount(\"/content/drive\", force_remount=True).\n"
          ]
        },
        {
          "output_type": "execute_result",
          "data": {
            "text/plain": [
              "                                                    title  \\\n",
              "bookID                                                      \n",
              "1       Harry Potter and the Half-Blood Prince (Harry ...   \n",
              "2       Harry Potter and the Order of the Phoenix (Har...   \n",
              "4       Harry Potter and the Chamber of Secrets (Harry...   \n",
              "5       Harry Potter and the Prisoner of Azkaban (Harr...   \n",
              "8       Harry Potter Boxed Set  Books 1-5 (Harry Potte...   \n",
              "\n",
              "                           authors  average_rating        isbn         isbn13  \\\n",
              "bookID                                                                          \n",
              "1       J.K. Rowling/Mary GrandPré            4.57  0439785960  9780439785969   \n",
              "2       J.K. Rowling/Mary GrandPré            4.49  0439358078  9780439358071   \n",
              "4                     J.K. Rowling            4.42  0439554896  9780439554893   \n",
              "5       J.K. Rowling/Mary GrandPré            4.56  043965548X  9780439655484   \n",
              "8       J.K. Rowling/Mary GrandPré            4.78  0439682584  9780439682589   \n",
              "\n",
              "       language_code    num_pages  ratings_count  text_reviews_count  \\\n",
              "bookID                                                                 \n",
              "1                eng          652        2095690               27591   \n",
              "2                eng          870        2153167               29221   \n",
              "4                eng          352           6333                 244   \n",
              "5                eng          435        2339585               36325   \n",
              "8                eng         2690          41428                 164   \n",
              "\n",
              "       publication_date        publisher  \n",
              "bookID                                    \n",
              "1             9/16/2006  Scholastic Inc.  \n",
              "2              9/1/2004  Scholastic Inc.  \n",
              "4             11/1/2003       Scholastic  \n",
              "5              5/1/2004  Scholastic Inc.  \n",
              "8             9/13/2004       Scholastic  "
            ],
            "text/html": [
              "\n",
              "  <div id=\"df-5e9b7c2d-82bf-46a7-9260-c65c758566b8\" class=\"colab-df-container\">\n",
              "    <div>\n",
              "<style scoped>\n",
              "    .dataframe tbody tr th:only-of-type {\n",
              "        vertical-align: middle;\n",
              "    }\n",
              "\n",
              "    .dataframe tbody tr th {\n",
              "        vertical-align: top;\n",
              "    }\n",
              "\n",
              "    .dataframe thead th {\n",
              "        text-align: right;\n",
              "    }\n",
              "</style>\n",
              "<table border=\"1\" class=\"dataframe\">\n",
              "  <thead>\n",
              "    <tr style=\"text-align: right;\">\n",
              "      <th></th>\n",
              "      <th>title</th>\n",
              "      <th>authors</th>\n",
              "      <th>average_rating</th>\n",
              "      <th>isbn</th>\n",
              "      <th>isbn13</th>\n",
              "      <th>language_code</th>\n",
              "      <th>num_pages</th>\n",
              "      <th>ratings_count</th>\n",
              "      <th>text_reviews_count</th>\n",
              "      <th>publication_date</th>\n",
              "      <th>publisher</th>\n",
              "    </tr>\n",
              "    <tr>\n",
              "      <th>bookID</th>\n",
              "      <th></th>\n",
              "      <th></th>\n",
              "      <th></th>\n",
              "      <th></th>\n",
              "      <th></th>\n",
              "      <th></th>\n",
              "      <th></th>\n",
              "      <th></th>\n",
              "      <th></th>\n",
              "      <th></th>\n",
              "      <th></th>\n",
              "    </tr>\n",
              "  </thead>\n",
              "  <tbody>\n",
              "    <tr>\n",
              "      <th>1</th>\n",
              "      <td>Harry Potter and the Half-Blood Prince (Harry ...</td>\n",
              "      <td>J.K. Rowling/Mary GrandPré</td>\n",
              "      <td>4.57</td>\n",
              "      <td>0439785960</td>\n",
              "      <td>9780439785969</td>\n",
              "      <td>eng</td>\n",
              "      <td>652</td>\n",
              "      <td>2095690</td>\n",
              "      <td>27591</td>\n",
              "      <td>9/16/2006</td>\n",
              "      <td>Scholastic Inc.</td>\n",
              "    </tr>\n",
              "    <tr>\n",
              "      <th>2</th>\n",
              "      <td>Harry Potter and the Order of the Phoenix (Har...</td>\n",
              "      <td>J.K. Rowling/Mary GrandPré</td>\n",
              "      <td>4.49</td>\n",
              "      <td>0439358078</td>\n",
              "      <td>9780439358071</td>\n",
              "      <td>eng</td>\n",
              "      <td>870</td>\n",
              "      <td>2153167</td>\n",
              "      <td>29221</td>\n",
              "      <td>9/1/2004</td>\n",
              "      <td>Scholastic Inc.</td>\n",
              "    </tr>\n",
              "    <tr>\n",
              "      <th>4</th>\n",
              "      <td>Harry Potter and the Chamber of Secrets (Harry...</td>\n",
              "      <td>J.K. Rowling</td>\n",
              "      <td>4.42</td>\n",
              "      <td>0439554896</td>\n",
              "      <td>9780439554893</td>\n",
              "      <td>eng</td>\n",
              "      <td>352</td>\n",
              "      <td>6333</td>\n",
              "      <td>244</td>\n",
              "      <td>11/1/2003</td>\n",
              "      <td>Scholastic</td>\n",
              "    </tr>\n",
              "    <tr>\n",
              "      <th>5</th>\n",
              "      <td>Harry Potter and the Prisoner of Azkaban (Harr...</td>\n",
              "      <td>J.K. Rowling/Mary GrandPré</td>\n",
              "      <td>4.56</td>\n",
              "      <td>043965548X</td>\n",
              "      <td>9780439655484</td>\n",
              "      <td>eng</td>\n",
              "      <td>435</td>\n",
              "      <td>2339585</td>\n",
              "      <td>36325</td>\n",
              "      <td>5/1/2004</td>\n",
              "      <td>Scholastic Inc.</td>\n",
              "    </tr>\n",
              "    <tr>\n",
              "      <th>8</th>\n",
              "      <td>Harry Potter Boxed Set  Books 1-5 (Harry Potte...</td>\n",
              "      <td>J.K. Rowling/Mary GrandPré</td>\n",
              "      <td>4.78</td>\n",
              "      <td>0439682584</td>\n",
              "      <td>9780439682589</td>\n",
              "      <td>eng</td>\n",
              "      <td>2690</td>\n",
              "      <td>41428</td>\n",
              "      <td>164</td>\n",
              "      <td>9/13/2004</td>\n",
              "      <td>Scholastic</td>\n",
              "    </tr>\n",
              "  </tbody>\n",
              "</table>\n",
              "</div>\n",
              "    <div class=\"colab-df-buttons\">\n",
              "\n",
              "  <div class=\"colab-df-container\">\n",
              "    <button class=\"colab-df-convert\" onclick=\"convertToInteractive('df-5e9b7c2d-82bf-46a7-9260-c65c758566b8')\"\n",
              "            title=\"Convert this dataframe to an interactive table.\"\n",
              "            style=\"display:none;\">\n",
              "\n",
              "  <svg xmlns=\"http://www.w3.org/2000/svg\" height=\"24px\" viewBox=\"0 -960 960 960\">\n",
              "    <path d=\"M120-120v-720h720v720H120Zm60-500h600v-160H180v160Zm220 220h160v-160H400v160Zm0 220h160v-160H400v160ZM180-400h160v-160H180v160Zm440 0h160v-160H620v160ZM180-180h160v-160H180v160Zm440 0h160v-160H620v160Z\"/>\n",
              "  </svg>\n",
              "    </button>\n",
              "\n",
              "  <style>\n",
              "    .colab-df-container {\n",
              "      display:flex;\n",
              "      gap: 12px;\n",
              "    }\n",
              "\n",
              "    .colab-df-convert {\n",
              "      background-color: #E8F0FE;\n",
              "      border: none;\n",
              "      border-radius: 50%;\n",
              "      cursor: pointer;\n",
              "      display: none;\n",
              "      fill: #1967D2;\n",
              "      height: 32px;\n",
              "      padding: 0 0 0 0;\n",
              "      width: 32px;\n",
              "    }\n",
              "\n",
              "    .colab-df-convert:hover {\n",
              "      background-color: #E2EBFA;\n",
              "      box-shadow: 0px 1px 2px rgba(60, 64, 67, 0.3), 0px 1px 3px 1px rgba(60, 64, 67, 0.15);\n",
              "      fill: #174EA6;\n",
              "    }\n",
              "\n",
              "    .colab-df-buttons div {\n",
              "      margin-bottom: 4px;\n",
              "    }\n",
              "\n",
              "    [theme=dark] .colab-df-convert {\n",
              "      background-color: #3B4455;\n",
              "      fill: #D2E3FC;\n",
              "    }\n",
              "\n",
              "    [theme=dark] .colab-df-convert:hover {\n",
              "      background-color: #434B5C;\n",
              "      box-shadow: 0px 1px 3px 1px rgba(0, 0, 0, 0.15);\n",
              "      filter: drop-shadow(0px 1px 2px rgba(0, 0, 0, 0.3));\n",
              "      fill: #FFFFFF;\n",
              "    }\n",
              "  </style>\n",
              "\n",
              "    <script>\n",
              "      const buttonEl =\n",
              "        document.querySelector('#df-5e9b7c2d-82bf-46a7-9260-c65c758566b8 button.colab-df-convert');\n",
              "      buttonEl.style.display =\n",
              "        google.colab.kernel.accessAllowed ? 'block' : 'none';\n",
              "\n",
              "      async function convertToInteractive(key) {\n",
              "        const element = document.querySelector('#df-5e9b7c2d-82bf-46a7-9260-c65c758566b8');\n",
              "        const dataTable =\n",
              "          await google.colab.kernel.invokeFunction('convertToInteractive',\n",
              "                                                    [key], {});\n",
              "        if (!dataTable) return;\n",
              "\n",
              "        const docLinkHtml = 'Like what you see? Visit the ' +\n",
              "          '<a target=\"_blank\" href=https://colab.research.google.com/notebooks/data_table.ipynb>data table notebook</a>'\n",
              "          + ' to learn more about interactive tables.';\n",
              "        element.innerHTML = '';\n",
              "        dataTable['output_type'] = 'display_data';\n",
              "        await google.colab.output.renderOutput(dataTable, element);\n",
              "        const docLink = document.createElement('div');\n",
              "        docLink.innerHTML = docLinkHtml;\n",
              "        element.appendChild(docLink);\n",
              "      }\n",
              "    </script>\n",
              "  </div>\n",
              "\n",
              "\n",
              "    <div id=\"df-d97bfe6f-9a6c-43d8-9fdc-64b5d6075704\">\n",
              "      <button class=\"colab-df-quickchart\" onclick=\"quickchart('df-d97bfe6f-9a6c-43d8-9fdc-64b5d6075704')\"\n",
              "                title=\"Suggest charts\"\n",
              "                style=\"display:none;\">\n",
              "\n",
              "<svg xmlns=\"http://www.w3.org/2000/svg\" height=\"24px\"viewBox=\"0 0 24 24\"\n",
              "     width=\"24px\">\n",
              "    <g>\n",
              "        <path d=\"M19 3H5c-1.1 0-2 .9-2 2v14c0 1.1.9 2 2 2h14c1.1 0 2-.9 2-2V5c0-1.1-.9-2-2-2zM9 17H7v-7h2v7zm4 0h-2V7h2v10zm4 0h-2v-4h2v4z\"/>\n",
              "    </g>\n",
              "</svg>\n",
              "      </button>\n",
              "\n",
              "<style>\n",
              "  .colab-df-quickchart {\n",
              "      --bg-color: #E8F0FE;\n",
              "      --fill-color: #1967D2;\n",
              "      --hover-bg-color: #E2EBFA;\n",
              "      --hover-fill-color: #174EA6;\n",
              "      --disabled-fill-color: #AAA;\n",
              "      --disabled-bg-color: #DDD;\n",
              "  }\n",
              "\n",
              "  [theme=dark] .colab-df-quickchart {\n",
              "      --bg-color: #3B4455;\n",
              "      --fill-color: #D2E3FC;\n",
              "      --hover-bg-color: #434B5C;\n",
              "      --hover-fill-color: #FFFFFF;\n",
              "      --disabled-bg-color: #3B4455;\n",
              "      --disabled-fill-color: #666;\n",
              "  }\n",
              "\n",
              "  .colab-df-quickchart {\n",
              "    background-color: var(--bg-color);\n",
              "    border: none;\n",
              "    border-radius: 50%;\n",
              "    cursor: pointer;\n",
              "    display: none;\n",
              "    fill: var(--fill-color);\n",
              "    height: 32px;\n",
              "    padding: 0;\n",
              "    width: 32px;\n",
              "  }\n",
              "\n",
              "  .colab-df-quickchart:hover {\n",
              "    background-color: var(--hover-bg-color);\n",
              "    box-shadow: 0 1px 2px rgba(60, 64, 67, 0.3), 0 1px 3px 1px rgba(60, 64, 67, 0.15);\n",
              "    fill: var(--button-hover-fill-color);\n",
              "  }\n",
              "\n",
              "  .colab-df-quickchart-complete:disabled,\n",
              "  .colab-df-quickchart-complete:disabled:hover {\n",
              "    background-color: var(--disabled-bg-color);\n",
              "    fill: var(--disabled-fill-color);\n",
              "    box-shadow: none;\n",
              "  }\n",
              "\n",
              "  .colab-df-spinner {\n",
              "    border: 2px solid var(--fill-color);\n",
              "    border-color: transparent;\n",
              "    border-bottom-color: var(--fill-color);\n",
              "    animation:\n",
              "      spin 1s steps(1) infinite;\n",
              "  }\n",
              "\n",
              "  @keyframes spin {\n",
              "    0% {\n",
              "      border-color: transparent;\n",
              "      border-bottom-color: var(--fill-color);\n",
              "      border-left-color: var(--fill-color);\n",
              "    }\n",
              "    20% {\n",
              "      border-color: transparent;\n",
              "      border-left-color: var(--fill-color);\n",
              "      border-top-color: var(--fill-color);\n",
              "    }\n",
              "    30% {\n",
              "      border-color: transparent;\n",
              "      border-left-color: var(--fill-color);\n",
              "      border-top-color: var(--fill-color);\n",
              "      border-right-color: var(--fill-color);\n",
              "    }\n",
              "    40% {\n",
              "      border-color: transparent;\n",
              "      border-right-color: var(--fill-color);\n",
              "      border-top-color: var(--fill-color);\n",
              "    }\n",
              "    60% {\n",
              "      border-color: transparent;\n",
              "      border-right-color: var(--fill-color);\n",
              "    }\n",
              "    80% {\n",
              "      border-color: transparent;\n",
              "      border-right-color: var(--fill-color);\n",
              "      border-bottom-color: var(--fill-color);\n",
              "    }\n",
              "    90% {\n",
              "      border-color: transparent;\n",
              "      border-bottom-color: var(--fill-color);\n",
              "    }\n",
              "  }\n",
              "</style>\n",
              "\n",
              "      <script>\n",
              "        async function quickchart(key) {\n",
              "          const quickchartButtonEl =\n",
              "            document.querySelector('#' + key + ' button');\n",
              "          quickchartButtonEl.disabled = true;  // To prevent multiple clicks.\n",
              "          quickchartButtonEl.classList.add('colab-df-spinner');\n",
              "          try {\n",
              "            const charts = await google.colab.kernel.invokeFunction(\n",
              "                'suggestCharts', [key], {});\n",
              "          } catch (error) {\n",
              "            console.error('Error during call to suggestCharts:', error);\n",
              "          }\n",
              "          quickchartButtonEl.classList.remove('colab-df-spinner');\n",
              "          quickchartButtonEl.classList.add('colab-df-quickchart-complete');\n",
              "        }\n",
              "        (() => {\n",
              "          let quickchartButtonEl =\n",
              "            document.querySelector('#df-d97bfe6f-9a6c-43d8-9fdc-64b5d6075704 button');\n",
              "          quickchartButtonEl.style.display =\n",
              "            google.colab.kernel.accessAllowed ? 'block' : 'none';\n",
              "        })();\n",
              "      </script>\n",
              "    </div>\n",
              "\n",
              "    </div>\n",
              "  </div>\n"
            ],
            "application/vnd.google.colaboratory.intrinsic+json": {
              "type": "dataframe",
              "variable_name": "data",
              "summary": "{\n  \"name\": \"data\",\n  \"rows\": 11119,\n  \"fields\": [\n    {\n      \"column\": \"bookID\",\n      \"properties\": {\n        \"dtype\": \"number\",\n        \"std\": 13093,\n        \"min\": 1,\n        \"max\": 45641,\n        \"num_unique_values\": 11119,\n        \"samples\": [\n          6624,\n          12250,\n          16879\n        ],\n        \"semantic_type\": \"\",\n        \"description\": \"\"\n      }\n    },\n    {\n      \"column\": \"title\",\n      \"properties\": {\n        \"dtype\": \"string\",\n        \"num_unique_values\": 10344,\n        \"samples\": [\n          \"A Framework for Understanding Poverty\",\n          \"The Campfire Collection: Spine-tingling Tales to Tell in the Dark\",\n          \"Jarka Ruus (High Druid of Shannara  #1)\"\n        ],\n        \"semantic_type\": \"\",\n        \"description\": \"\"\n      }\n    },\n    {\n      \"column\": \"authors\",\n      \"properties\": {\n        \"dtype\": \"string\",\n        \"num_unique_values\": 6635,\n        \"samples\": [\n          \"Rumer Godden/Jean Primrose\",\n          \"John Lewis Gaddis\",\n          \"Vera John-Steiner\"\n        ],\n        \"semantic_type\": \"\",\n        \"description\": \"\"\n      }\n    },\n    {\n      \"column\": \"average_rating\",\n      \"properties\": {\n        \"dtype\": \"number\",\n        \"std\": 0.3503841672087902,\n        \"min\": 0.0,\n        \"max\": 5.0,\n        \"num_unique_values\": 209,\n        \"samples\": [\n          4.06,\n          3.18,\n          3.96\n        ],\n        \"semantic_type\": \"\",\n        \"description\": \"\"\n      }\n    },\n    {\n      \"column\": \"isbn\",\n      \"properties\": {\n        \"dtype\": \"string\",\n        \"num_unique_values\": 11119,\n        \"samples\": [\n          \"1401302424\",\n          \"0226469441\",\n          \"1400075122\"\n        ],\n        \"semantic_type\": \"\",\n        \"description\": \"\"\n      }\n    },\n    {\n      \"column\": \"isbn13\",\n      \"properties\": {\n        \"dtype\": \"number\",\n        \"std\": 443055354375,\n        \"min\": 8987059752,\n        \"max\": 9790007672386,\n        \"num_unique_values\": 11119,\n        \"samples\": [\n          9781401302429,\n          9780226469447,\n          9781400075126\n        ],\n        \"semantic_type\": \"\",\n        \"description\": \"\"\n      }\n    },\n    {\n      \"column\": \"language_code\",\n      \"properties\": {\n        \"dtype\": \"category\",\n        \"num_unique_values\": 27,\n        \"samples\": [\n          \"en-CA\",\n          \"zho\",\n          \"ger\"\n        ],\n        \"semantic_type\": \"\",\n        \"description\": \"\"\n      }\n    },\n    {\n      \"column\": \"  num_pages\",\n      \"properties\": {\n        \"dtype\": \"number\",\n        \"std\": 241,\n        \"min\": 0,\n        \"max\": 6576,\n        \"num_unique_values\": 997,\n        \"samples\": [\n          268,\n          795,\n          4\n        ],\n        \"semantic_type\": \"\",\n        \"description\": \"\"\n      }\n    },\n    {\n      \"column\": \"ratings_count\",\n      \"properties\": {\n        \"dtype\": \"number\",\n        \"std\": 112518,\n        \"min\": 0,\n        \"max\": 4597666,\n        \"num_unique_values\": 5293,\n        \"samples\": [\n          2883,\n          40629,\n          3760\n        ],\n        \"semantic_type\": \"\",\n        \"description\": \"\"\n      }\n    },\n    {\n      \"column\": \"text_reviews_count\",\n      \"properties\": {\n        \"dtype\": \"number\",\n        \"std\": 2577,\n        \"min\": 0,\n        \"max\": 94265,\n        \"num_unique_values\": 1822,\n        \"samples\": [\n          1607,\n          17547,\n          99\n        ],\n        \"semantic_type\": \"\",\n        \"description\": \"\"\n      }\n    },\n    {\n      \"column\": \"publication_date\",\n      \"properties\": {\n        \"dtype\": \"category\",\n        \"num_unique_values\": 3675,\n        \"samples\": [\n          \"6/15/1991\",\n          \"1/6/1973\",\n          \"10/28/1998\"\n        ],\n        \"semantic_type\": \"\",\n        \"description\": \"\"\n      }\n    },\n    {\n      \"column\": \"publisher\",\n      \"properties\": {\n        \"dtype\": \"category\",\n        \"num_unique_values\": 2289,\n        \"samples\": [\n          \"Morrow\",\n          \"Penguin Global\",\n          \"Tauris Parke Paperbacks\"\n        ],\n        \"semantic_type\": \"\",\n        \"description\": \"\"\n      }\n    }\n  ]\n}"
            }
          },
          "metadata": {},
          "execution_count": 53
        }
      ],
      "source": [
        "from google.colab import drive\n",
        "\n",
        "# Mount Google Drive\n",
        "drive.mount('/content/drive')\n",
        "\n",
        "# Load the data with the appropriate delimiter, using the python engine and skipping bad lines\n",
        "data = pd.read_csv('/content/drive/MyDrive/DBS/Data/books.csv', delimiter=',', engine='python', on_bad_lines='skip')\n",
        "\n",
        "# Set 'bookID' as the index\n",
        "data.set_index('bookID', inplace=True)\n",
        "\n",
        "# Display the first few rows to check\n",
        "data.head()"
      ]
    },
    {
      "cell_type": "markdown",
      "source": [
        "# Explaratory Data Analysis - Deskripsi Peubah\n",
        "\n",
        "Berdasarkan informasi dari Kaggle, peubah-peubah pada dataset adalah sebagai berikut:\n",
        "\n",
        "- Title: Nama buku yang terdaftar di platform Goodreads (peubah kategorikal)\n",
        "- Author: Nama penulis buku (peubah kategorika)\n",
        "- Average rating: Rata-rata rating yang diberikan pengguna untuk buku tersebut di Goodreads (peubah kontinu)\n",
        "- ISBN: Nomor ISBN buku yang digunakan untuk identifikasi unik (peubah kategorikal)\n",
        "- ISBN13: Nomor ISBN-13 buku, versi terbaru dari ISBN (peubah kategorikal)\n",
        "- Language Code: Kode bahasa buku, misalnya \"eng\" untuk Bahasa Inggris (peubah kategorikal)\n",
        "- Num Pages: Jumlah halaman dalam buku (peubah kontinu)\n",
        "- Ratings Count: Jumlah total rating yang diterima oleh buku (peubah kontinu)\n",
        "Text Review Count: Jumlah ulasan teks yang ditulis oleh pengguna (peubah kontinu)\n",
        "- Publication Date: Tanggal penerbitan buku (peubah kategorikal)\n",
        "- Publisher: Nama penerbit buku (peubah kategorikal)"
      ],
      "metadata": {
        "id": "YGTM5tX2ZMr0"
      }
    },
    {
      "cell_type": "code",
      "source": [
        "data.info()"
      ],
      "metadata": {
        "colab": {
          "base_uri": "https://localhost:8080/"
        },
        "id": "i8fHYDIBZGJ2",
        "outputId": "d6e57310-aebc-470d-e5a6-767a9e7174f9"
      },
      "execution_count": 54,
      "outputs": [
        {
          "output_type": "stream",
          "name": "stdout",
          "text": [
            "<class 'pandas.core.frame.DataFrame'>\n",
            "Index: 11119 entries, 1 to 45641\n",
            "Data columns (total 11 columns):\n",
            " #   Column              Non-Null Count  Dtype  \n",
            "---  ------              --------------  -----  \n",
            " 0   title               11119 non-null  object \n",
            " 1   authors             11119 non-null  object \n",
            " 2   average_rating      11119 non-null  float64\n",
            " 3   isbn                11119 non-null  object \n",
            " 4   isbn13              11119 non-null  int64  \n",
            " 5   language_code       11119 non-null  object \n",
            " 6     num_pages         11119 non-null  int64  \n",
            " 7   ratings_count       11119 non-null  int64  \n",
            " 8   text_reviews_count  11119 non-null  int64  \n",
            " 9   publication_date    11119 non-null  object \n",
            " 10  publisher           11119 non-null  object \n",
            "dtypes: float64(1), int64(4), object(6)\n",
            "memory usage: 1.0+ MB\n"
          ]
        }
      ]
    },
    {
      "cell_type": "code",
      "source": [
        "data.describe()"
      ],
      "metadata": {
        "colab": {
          "base_uri": "https://localhost:8080/",
          "height": 300
        },
        "id": "zedL6WpHa-rf",
        "outputId": "d6994d24-87a1-4266-cce8-7afb6c01a08a"
      },
      "execution_count": 55,
      "outputs": [
        {
          "output_type": "execute_result",
          "data": {
            "text/plain": [
              "       average_rating        isbn13     num_pages  ratings_count  \\\n",
              "count    11119.000000  1.111900e+04  11119.000000   1.111900e+04   \n",
              "mean         3.934135  9.759873e+12    336.439788   1.794832e+04   \n",
              "std          0.350384  4.430554e+11    241.177969   1.125190e+05   \n",
              "min          0.000000  8.987060e+09      0.000000   0.000000e+00   \n",
              "25%          3.770000  9.780345e+12    192.000000   1.040000e+02   \n",
              "50%          3.960000  9.780586e+12    299.000000   7.450000e+02   \n",
              "75%          4.135000  9.780873e+12    416.000000   5.000500e+03   \n",
              "max          5.000000  9.790008e+12   6576.000000   4.597666e+06   \n",
              "\n",
              "       text_reviews_count  \n",
              "count        11119.000000  \n",
              "mean           542.167371  \n",
              "std           2577.069549  \n",
              "min              0.000000  \n",
              "25%              9.000000  \n",
              "50%             47.000000  \n",
              "75%            238.000000  \n",
              "max          94265.000000  "
            ],
            "text/html": [
              "\n",
              "  <div id=\"df-39ea8970-73cb-43f2-8e8d-617bc24f5257\" class=\"colab-df-container\">\n",
              "    <div>\n",
              "<style scoped>\n",
              "    .dataframe tbody tr th:only-of-type {\n",
              "        vertical-align: middle;\n",
              "    }\n",
              "\n",
              "    .dataframe tbody tr th {\n",
              "        vertical-align: top;\n",
              "    }\n",
              "\n",
              "    .dataframe thead th {\n",
              "        text-align: right;\n",
              "    }\n",
              "</style>\n",
              "<table border=\"1\" class=\"dataframe\">\n",
              "  <thead>\n",
              "    <tr style=\"text-align: right;\">\n",
              "      <th></th>\n",
              "      <th>average_rating</th>\n",
              "      <th>isbn13</th>\n",
              "      <th>num_pages</th>\n",
              "      <th>ratings_count</th>\n",
              "      <th>text_reviews_count</th>\n",
              "    </tr>\n",
              "  </thead>\n",
              "  <tbody>\n",
              "    <tr>\n",
              "      <th>count</th>\n",
              "      <td>11119.000000</td>\n",
              "      <td>1.111900e+04</td>\n",
              "      <td>11119.000000</td>\n",
              "      <td>1.111900e+04</td>\n",
              "      <td>11119.000000</td>\n",
              "    </tr>\n",
              "    <tr>\n",
              "      <th>mean</th>\n",
              "      <td>3.934135</td>\n",
              "      <td>9.759873e+12</td>\n",
              "      <td>336.439788</td>\n",
              "      <td>1.794832e+04</td>\n",
              "      <td>542.167371</td>\n",
              "    </tr>\n",
              "    <tr>\n",
              "      <th>std</th>\n",
              "      <td>0.350384</td>\n",
              "      <td>4.430554e+11</td>\n",
              "      <td>241.177969</td>\n",
              "      <td>1.125190e+05</td>\n",
              "      <td>2577.069549</td>\n",
              "    </tr>\n",
              "    <tr>\n",
              "      <th>min</th>\n",
              "      <td>0.000000</td>\n",
              "      <td>8.987060e+09</td>\n",
              "      <td>0.000000</td>\n",
              "      <td>0.000000e+00</td>\n",
              "      <td>0.000000</td>\n",
              "    </tr>\n",
              "    <tr>\n",
              "      <th>25%</th>\n",
              "      <td>3.770000</td>\n",
              "      <td>9.780345e+12</td>\n",
              "      <td>192.000000</td>\n",
              "      <td>1.040000e+02</td>\n",
              "      <td>9.000000</td>\n",
              "    </tr>\n",
              "    <tr>\n",
              "      <th>50%</th>\n",
              "      <td>3.960000</td>\n",
              "      <td>9.780586e+12</td>\n",
              "      <td>299.000000</td>\n",
              "      <td>7.450000e+02</td>\n",
              "      <td>47.000000</td>\n",
              "    </tr>\n",
              "    <tr>\n",
              "      <th>75%</th>\n",
              "      <td>4.135000</td>\n",
              "      <td>9.780873e+12</td>\n",
              "      <td>416.000000</td>\n",
              "      <td>5.000500e+03</td>\n",
              "      <td>238.000000</td>\n",
              "    </tr>\n",
              "    <tr>\n",
              "      <th>max</th>\n",
              "      <td>5.000000</td>\n",
              "      <td>9.790008e+12</td>\n",
              "      <td>6576.000000</td>\n",
              "      <td>4.597666e+06</td>\n",
              "      <td>94265.000000</td>\n",
              "    </tr>\n",
              "  </tbody>\n",
              "</table>\n",
              "</div>\n",
              "    <div class=\"colab-df-buttons\">\n",
              "\n",
              "  <div class=\"colab-df-container\">\n",
              "    <button class=\"colab-df-convert\" onclick=\"convertToInteractive('df-39ea8970-73cb-43f2-8e8d-617bc24f5257')\"\n",
              "            title=\"Convert this dataframe to an interactive table.\"\n",
              "            style=\"display:none;\">\n",
              "\n",
              "  <svg xmlns=\"http://www.w3.org/2000/svg\" height=\"24px\" viewBox=\"0 -960 960 960\">\n",
              "    <path d=\"M120-120v-720h720v720H120Zm60-500h600v-160H180v160Zm220 220h160v-160H400v160Zm0 220h160v-160H400v160ZM180-400h160v-160H180v160Zm440 0h160v-160H620v160ZM180-180h160v-160H180v160Zm440 0h160v-160H620v160Z\"/>\n",
              "  </svg>\n",
              "    </button>\n",
              "\n",
              "  <style>\n",
              "    .colab-df-container {\n",
              "      display:flex;\n",
              "      gap: 12px;\n",
              "    }\n",
              "\n",
              "    .colab-df-convert {\n",
              "      background-color: #E8F0FE;\n",
              "      border: none;\n",
              "      border-radius: 50%;\n",
              "      cursor: pointer;\n",
              "      display: none;\n",
              "      fill: #1967D2;\n",
              "      height: 32px;\n",
              "      padding: 0 0 0 0;\n",
              "      width: 32px;\n",
              "    }\n",
              "\n",
              "    .colab-df-convert:hover {\n",
              "      background-color: #E2EBFA;\n",
              "      box-shadow: 0px 1px 2px rgba(60, 64, 67, 0.3), 0px 1px 3px 1px rgba(60, 64, 67, 0.15);\n",
              "      fill: #174EA6;\n",
              "    }\n",
              "\n",
              "    .colab-df-buttons div {\n",
              "      margin-bottom: 4px;\n",
              "    }\n",
              "\n",
              "    [theme=dark] .colab-df-convert {\n",
              "      background-color: #3B4455;\n",
              "      fill: #D2E3FC;\n",
              "    }\n",
              "\n",
              "    [theme=dark] .colab-df-convert:hover {\n",
              "      background-color: #434B5C;\n",
              "      box-shadow: 0px 1px 3px 1px rgba(0, 0, 0, 0.15);\n",
              "      filter: drop-shadow(0px 1px 2px rgba(0, 0, 0, 0.3));\n",
              "      fill: #FFFFFF;\n",
              "    }\n",
              "  </style>\n",
              "\n",
              "    <script>\n",
              "      const buttonEl =\n",
              "        document.querySelector('#df-39ea8970-73cb-43f2-8e8d-617bc24f5257 button.colab-df-convert');\n",
              "      buttonEl.style.display =\n",
              "        google.colab.kernel.accessAllowed ? 'block' : 'none';\n",
              "\n",
              "      async function convertToInteractive(key) {\n",
              "        const element = document.querySelector('#df-39ea8970-73cb-43f2-8e8d-617bc24f5257');\n",
              "        const dataTable =\n",
              "          await google.colab.kernel.invokeFunction('convertToInteractive',\n",
              "                                                    [key], {});\n",
              "        if (!dataTable) return;\n",
              "\n",
              "        const docLinkHtml = 'Like what you see? Visit the ' +\n",
              "          '<a target=\"_blank\" href=https://colab.research.google.com/notebooks/data_table.ipynb>data table notebook</a>'\n",
              "          + ' to learn more about interactive tables.';\n",
              "        element.innerHTML = '';\n",
              "        dataTable['output_type'] = 'display_data';\n",
              "        await google.colab.output.renderOutput(dataTable, element);\n",
              "        const docLink = document.createElement('div');\n",
              "        docLink.innerHTML = docLinkHtml;\n",
              "        element.appendChild(docLink);\n",
              "      }\n",
              "    </script>\n",
              "  </div>\n",
              "\n",
              "\n",
              "    <div id=\"df-90711249-7287-4775-9ed0-7f25d757e523\">\n",
              "      <button class=\"colab-df-quickchart\" onclick=\"quickchart('df-90711249-7287-4775-9ed0-7f25d757e523')\"\n",
              "                title=\"Suggest charts\"\n",
              "                style=\"display:none;\">\n",
              "\n",
              "<svg xmlns=\"http://www.w3.org/2000/svg\" height=\"24px\"viewBox=\"0 0 24 24\"\n",
              "     width=\"24px\">\n",
              "    <g>\n",
              "        <path d=\"M19 3H5c-1.1 0-2 .9-2 2v14c0 1.1.9 2 2 2h14c1.1 0 2-.9 2-2V5c0-1.1-.9-2-2-2zM9 17H7v-7h2v7zm4 0h-2V7h2v10zm4 0h-2v-4h2v4z\"/>\n",
              "    </g>\n",
              "</svg>\n",
              "      </button>\n",
              "\n",
              "<style>\n",
              "  .colab-df-quickchart {\n",
              "      --bg-color: #E8F0FE;\n",
              "      --fill-color: #1967D2;\n",
              "      --hover-bg-color: #E2EBFA;\n",
              "      --hover-fill-color: #174EA6;\n",
              "      --disabled-fill-color: #AAA;\n",
              "      --disabled-bg-color: #DDD;\n",
              "  }\n",
              "\n",
              "  [theme=dark] .colab-df-quickchart {\n",
              "      --bg-color: #3B4455;\n",
              "      --fill-color: #D2E3FC;\n",
              "      --hover-bg-color: #434B5C;\n",
              "      --hover-fill-color: #FFFFFF;\n",
              "      --disabled-bg-color: #3B4455;\n",
              "      --disabled-fill-color: #666;\n",
              "  }\n",
              "\n",
              "  .colab-df-quickchart {\n",
              "    background-color: var(--bg-color);\n",
              "    border: none;\n",
              "    border-radius: 50%;\n",
              "    cursor: pointer;\n",
              "    display: none;\n",
              "    fill: var(--fill-color);\n",
              "    height: 32px;\n",
              "    padding: 0;\n",
              "    width: 32px;\n",
              "  }\n",
              "\n",
              "  .colab-df-quickchart:hover {\n",
              "    background-color: var(--hover-bg-color);\n",
              "    box-shadow: 0 1px 2px rgba(60, 64, 67, 0.3), 0 1px 3px 1px rgba(60, 64, 67, 0.15);\n",
              "    fill: var(--button-hover-fill-color);\n",
              "  }\n",
              "\n",
              "  .colab-df-quickchart-complete:disabled,\n",
              "  .colab-df-quickchart-complete:disabled:hover {\n",
              "    background-color: var(--disabled-bg-color);\n",
              "    fill: var(--disabled-fill-color);\n",
              "    box-shadow: none;\n",
              "  }\n",
              "\n",
              "  .colab-df-spinner {\n",
              "    border: 2px solid var(--fill-color);\n",
              "    border-color: transparent;\n",
              "    border-bottom-color: var(--fill-color);\n",
              "    animation:\n",
              "      spin 1s steps(1) infinite;\n",
              "  }\n",
              "\n",
              "  @keyframes spin {\n",
              "    0% {\n",
              "      border-color: transparent;\n",
              "      border-bottom-color: var(--fill-color);\n",
              "      border-left-color: var(--fill-color);\n",
              "    }\n",
              "    20% {\n",
              "      border-color: transparent;\n",
              "      border-left-color: var(--fill-color);\n",
              "      border-top-color: var(--fill-color);\n",
              "    }\n",
              "    30% {\n",
              "      border-color: transparent;\n",
              "      border-left-color: var(--fill-color);\n",
              "      border-top-color: var(--fill-color);\n",
              "      border-right-color: var(--fill-color);\n",
              "    }\n",
              "    40% {\n",
              "      border-color: transparent;\n",
              "      border-right-color: var(--fill-color);\n",
              "      border-top-color: var(--fill-color);\n",
              "    }\n",
              "    60% {\n",
              "      border-color: transparent;\n",
              "      border-right-color: var(--fill-color);\n",
              "    }\n",
              "    80% {\n",
              "      border-color: transparent;\n",
              "      border-right-color: var(--fill-color);\n",
              "      border-bottom-color: var(--fill-color);\n",
              "    }\n",
              "    90% {\n",
              "      border-color: transparent;\n",
              "      border-bottom-color: var(--fill-color);\n",
              "    }\n",
              "  }\n",
              "</style>\n",
              "\n",
              "      <script>\n",
              "        async function quickchart(key) {\n",
              "          const quickchartButtonEl =\n",
              "            document.querySelector('#' + key + ' button');\n",
              "          quickchartButtonEl.disabled = true;  // To prevent multiple clicks.\n",
              "          quickchartButtonEl.classList.add('colab-df-spinner');\n",
              "          try {\n",
              "            const charts = await google.colab.kernel.invokeFunction(\n",
              "                'suggestCharts', [key], {});\n",
              "          } catch (error) {\n",
              "            console.error('Error during call to suggestCharts:', error);\n",
              "          }\n",
              "          quickchartButtonEl.classList.remove('colab-df-spinner');\n",
              "          quickchartButtonEl.classList.add('colab-df-quickchart-complete');\n",
              "        }\n",
              "        (() => {\n",
              "          let quickchartButtonEl =\n",
              "            document.querySelector('#df-90711249-7287-4775-9ed0-7f25d757e523 button');\n",
              "          quickchartButtonEl.style.display =\n",
              "            google.colab.kernel.accessAllowed ? 'block' : 'none';\n",
              "        })();\n",
              "      </script>\n",
              "    </div>\n",
              "\n",
              "    </div>\n",
              "  </div>\n"
            ],
            "application/vnd.google.colaboratory.intrinsic+json": {
              "type": "dataframe",
              "summary": "{\n  \"name\": \"data\",\n  \"rows\": 8,\n  \"fields\": [\n    {\n      \"column\": \"average_rating\",\n      \"properties\": {\n        \"dtype\": \"number\",\n        \"std\": 3930.0923685710713,\n        \"min\": 0.0,\n        \"max\": 11119.0,\n        \"num_unique_values\": 8,\n        \"samples\": [\n          3.934135263962587,\n          3.96,\n          11119.0\n        ],\n        \"semantic_type\": \"\",\n        \"description\": \"\"\n      }\n    },\n    {\n      \"column\": \"isbn13\",\n      \"properties\": {\n        \"dtype\": \"number\",\n        \"std\": 4984630828956.997,\n        \"min\": 11119.0,\n        \"max\": 9790007672386.0,\n        \"num_unique_values\": 8,\n        \"samples\": [\n          9759872871740.852,\n          9780586071397.0,\n          11119.0\n        ],\n        \"semantic_type\": \"\",\n        \"description\": \"\"\n      }\n    },\n    {\n      \"column\": \"  num_pages\",\n      \"properties\": {\n        \"dtype\": \"number\",\n        \"std\": 4163.864952215763,\n        \"min\": 0.0,\n        \"max\": 11119.0,\n        \"num_unique_values\": 8,\n        \"samples\": [\n          336.439787750697,\n          299.0,\n          11119.0\n        ],\n        \"semantic_type\": \"\",\n        \"description\": \"\"\n      }\n    },\n    {\n      \"column\": \"ratings_count\",\n      \"properties\": {\n        \"dtype\": \"number\",\n        \"std\": 1618516.323067528,\n        \"min\": 0.0,\n        \"max\": 4597666.0,\n        \"num_unique_values\": 8,\n        \"samples\": [\n          17948.31954312438,\n          745.0,\n          11119.0\n        ],\n        \"semantic_type\": \"\",\n        \"description\": \"\"\n      }\n    },\n    {\n      \"column\": \"text_reviews_count\",\n      \"properties\": {\n        \"dtype\": \"number\",\n        \"std\": 32813.132622985635,\n        \"min\": 0.0,\n        \"max\": 94265.0,\n        \"num_unique_values\": 8,\n        \"samples\": [\n          542.1673711664718,\n          47.0,\n          11119.0\n        ],\n        \"semantic_type\": \"\",\n        \"description\": \"\"\n      }\n    }\n  ]\n}"
            }
          },
          "metadata": {},
          "execution_count": 55
        }
      ]
    },
    {
      "cell_type": "code",
      "source": [
        "data.shape"
      ],
      "metadata": {
        "colab": {
          "base_uri": "https://localhost:8080/"
        },
        "id": "j_lx4w9kbBCA",
        "outputId": "5573acb9-d43c-4dd2-b4ba-fca6561bdf87"
      },
      "execution_count": 56,
      "outputs": [
        {
          "output_type": "execute_result",
          "data": {
            "text/plain": [
              "(11119, 11)"
            ]
          },
          "metadata": {},
          "execution_count": 56
        }
      ]
    },
    {
      "cell_type": "markdown",
      "source": [
        "Dataset terdiri dari 11119 baris data dan 11 kolom."
      ],
      "metadata": {
        "id": "YdpGmd7lbDNV"
      }
    },
    {
      "cell_type": "markdown",
      "source": [
        "# Univariate Exploratory Data Analysis"
      ],
      "metadata": {
        "id": "-M7efO0dbbft"
      }
    },
    {
      "cell_type": "markdown",
      "source": [
        "## Peubah Title"
      ],
      "metadata": {
        "id": "qWlyI084dGOm"
      }
    },
    {
      "cell_type": "code",
      "source": [
        "data['title'].info()"
      ],
      "metadata": {
        "colab": {
          "base_uri": "https://localhost:8080/"
        },
        "id": "FTBSk7h6barG",
        "outputId": "3d7a77fd-c82e-49e5-97c6-0f67ac8cff37"
      },
      "execution_count": 57,
      "outputs": [
        {
          "output_type": "stream",
          "name": "stdout",
          "text": [
            "<class 'pandas.core.series.Series'>\n",
            "Index: 11119 entries, 1 to 45641\n",
            "Series name: title\n",
            "Non-Null Count  Dtype \n",
            "--------------  ----- \n",
            "11119 non-null  object\n",
            "dtypes: object(1)\n",
            "memory usage: 173.7+ KB\n"
          ]
        }
      ]
    },
    {
      "cell_type": "code",
      "source": [
        "print('Banyak data: ', len(data['title'].unique()))"
      ],
      "metadata": {
        "colab": {
          "base_uri": "https://localhost:8080/"
        },
        "id": "GG-fPITYct4U",
        "outputId": "0d0a09d3-2940-4151-ff74-8304491256a3"
      },
      "execution_count": 58,
      "outputs": [
        {
          "output_type": "stream",
          "name": "stdout",
          "text": [
            "Banyak data:  10344\n"
          ]
        }
      ]
    },
    {
      "cell_type": "code",
      "source": [
        "print('Judul Buku: ', data['title'].unique())"
      ],
      "metadata": {
        "colab": {
          "base_uri": "https://localhost:8080/"
        },
        "id": "0IpdeJBKcx5L",
        "outputId": "7aed9bf4-94ad-4cfe-fccb-9ceacf0094b5"
      },
      "execution_count": 59,
      "outputs": [
        {
          "output_type": "stream",
          "name": "stdout",
          "text": [
            "Judul Buku:  ['Harry Potter and the Half-Blood Prince (Harry Potter  #6)'\n",
            " 'Harry Potter and the Order of the Phoenix (Harry Potter  #5)'\n",
            " 'Harry Potter and the Chamber of Secrets (Harry Potter  #2)' ...\n",
            " 'The Ice-Shirt (Seven Dreams #1)' 'Poor People'\n",
            " 'Las aventuras de Tom Sawyer']\n"
          ]
        }
      ]
    },
    {
      "cell_type": "markdown",
      "source": [
        "Terdapat 10.344 judul buku berbeda"
      ],
      "metadata": {
        "id": "liE5X41gc_WA"
      }
    },
    {
      "cell_type": "markdown",
      "source": [
        "## Peubah Authors"
      ],
      "metadata": {
        "id": "LUin9-6AdLVU"
      }
    },
    {
      "cell_type": "code",
      "source": [
        "data['authors'].info()"
      ],
      "metadata": {
        "colab": {
          "base_uri": "https://localhost:8080/"
        },
        "id": "Q-wDL2qddR7F",
        "outputId": "579b83e2-7ef0-4832-93ff-63838532957f"
      },
      "execution_count": 60,
      "outputs": [
        {
          "output_type": "stream",
          "name": "stdout",
          "text": [
            "<class 'pandas.core.series.Series'>\n",
            "Index: 11119 entries, 1 to 45641\n",
            "Series name: authors\n",
            "Non-Null Count  Dtype \n",
            "--------------  ----- \n",
            "11119 non-null  object\n",
            "dtypes: object(1)\n",
            "memory usage: 173.7+ KB\n"
          ]
        }
      ]
    },
    {
      "cell_type": "code",
      "source": [
        "print('Banyak data: ', len(data['authors'].unique()))"
      ],
      "metadata": {
        "colab": {
          "base_uri": "https://localhost:8080/"
        },
        "id": "u4ejxwZjdYfJ",
        "outputId": "c5e54ac9-9cbf-4f4a-ece8-97451706e474"
      },
      "execution_count": 61,
      "outputs": [
        {
          "output_type": "stream",
          "name": "stdout",
          "text": [
            "Banyak data:  6635\n"
          ]
        }
      ]
    },
    {
      "cell_type": "code",
      "source": [
        "print('Authors: ', data['authors'].unique())"
      ],
      "metadata": {
        "colab": {
          "base_uri": "https://localhost:8080/"
        },
        "id": "4KRiQWHzdbi9",
        "outputId": "86b2c951-bd6c-4f89-f0e5-3002dbc59dfd"
      },
      "execution_count": 62,
      "outputs": [
        {
          "output_type": "stream",
          "name": "stdout",
          "text": [
            "Authors:  ['J.K. Rowling/Mary GrandPré' 'J.K. Rowling' 'W. Frederick Zimmerman' ...\n",
            " 'C.S. Lewis/Ana Falcão Bastos'\n",
            " 'C.S. Lewis/Pauline Baynes/Ana Falcão Bastos'\n",
            " 'William T. Vollmann/Larry McCaffery/Michael Hemmingson']\n"
          ]
        }
      ]
    },
    {
      "cell_type": "markdown",
      "source": [
        "Terdapat 6.635 authors berbeda."
      ],
      "metadata": {
        "id": "J5Zc68wydgN9"
      }
    },
    {
      "cell_type": "markdown",
      "source": [
        "## Peubah Average Rating"
      ],
      "metadata": {
        "id": "SgJWRePCdslG"
      }
    },
    {
      "cell_type": "code",
      "source": [
        "data['average_rating'].info()"
      ],
      "metadata": {
        "colab": {
          "base_uri": "https://localhost:8080/"
        },
        "id": "Yp0yHEfCdvxE",
        "outputId": "0bc72326-4000-49b0-f366-3cf4d9f58ecc"
      },
      "execution_count": 63,
      "outputs": [
        {
          "output_type": "stream",
          "name": "stdout",
          "text": [
            "<class 'pandas.core.series.Series'>\n",
            "Index: 11119 entries, 1 to 45641\n",
            "Series name: average_rating\n",
            "Non-Null Count  Dtype  \n",
            "--------------  -----  \n",
            "11119 non-null  float64\n",
            "dtypes: float64(1)\n",
            "memory usage: 173.7 KB\n"
          ]
        }
      ]
    },
    {
      "cell_type": "code",
      "source": [
        "data['average_rating'].describe()"
      ],
      "metadata": {
        "colab": {
          "base_uri": "https://localhost:8080/",
          "height": 335
        },
        "id": "M7evUEQkd_el",
        "outputId": "14540f22-0f68-413a-c4c2-66614525f3f2"
      },
      "execution_count": 64,
      "outputs": [
        {
          "output_type": "execute_result",
          "data": {
            "text/plain": [
              "count    11119.000000\n",
              "mean         3.934135\n",
              "std          0.350384\n",
              "min          0.000000\n",
              "25%          3.770000\n",
              "50%          3.960000\n",
              "75%          4.135000\n",
              "max          5.000000\n",
              "Name: average_rating, dtype: float64"
            ],
            "text/html": [
              "<div>\n",
              "<style scoped>\n",
              "    .dataframe tbody tr th:only-of-type {\n",
              "        vertical-align: middle;\n",
              "    }\n",
              "\n",
              "    .dataframe tbody tr th {\n",
              "        vertical-align: top;\n",
              "    }\n",
              "\n",
              "    .dataframe thead th {\n",
              "        text-align: right;\n",
              "    }\n",
              "</style>\n",
              "<table border=\"1\" class=\"dataframe\">\n",
              "  <thead>\n",
              "    <tr style=\"text-align: right;\">\n",
              "      <th></th>\n",
              "      <th>average_rating</th>\n",
              "    </tr>\n",
              "  </thead>\n",
              "  <tbody>\n",
              "    <tr>\n",
              "      <th>count</th>\n",
              "      <td>11119.000000</td>\n",
              "    </tr>\n",
              "    <tr>\n",
              "      <th>mean</th>\n",
              "      <td>3.934135</td>\n",
              "    </tr>\n",
              "    <tr>\n",
              "      <th>std</th>\n",
              "      <td>0.350384</td>\n",
              "    </tr>\n",
              "    <tr>\n",
              "      <th>min</th>\n",
              "      <td>0.000000</td>\n",
              "    </tr>\n",
              "    <tr>\n",
              "      <th>25%</th>\n",
              "      <td>3.770000</td>\n",
              "    </tr>\n",
              "    <tr>\n",
              "      <th>50%</th>\n",
              "      <td>3.960000</td>\n",
              "    </tr>\n",
              "    <tr>\n",
              "      <th>75%</th>\n",
              "      <td>4.135000</td>\n",
              "    </tr>\n",
              "    <tr>\n",
              "      <th>max</th>\n",
              "      <td>5.000000</td>\n",
              "    </tr>\n",
              "  </tbody>\n",
              "</table>\n",
              "</div><br><label><b>dtype:</b> float64</label>"
            ]
          },
          "metadata": {},
          "execution_count": 64
        }
      ]
    },
    {
      "cell_type": "markdown",
      "source": [
        "Dapat dilihat bahwa nilai maksimum average rating adalah 5 dan nilai minimumnya adalah 0, dengan rata-ratanya sebesar 3,93"
      ],
      "metadata": {
        "id": "SVneGpR-eV6P"
      }
    },
    {
      "cell_type": "markdown",
      "source": [
        "## Peubah Language Code"
      ],
      "metadata": {
        "id": "FWmTMZF9ecQt"
      }
    },
    {
      "cell_type": "code",
      "source": [
        "data['language_code'].info()"
      ],
      "metadata": {
        "colab": {
          "base_uri": "https://localhost:8080/"
        },
        "id": "y3jzfW2Meirb",
        "outputId": "3cd5f726-87b0-430e-8a66-b7a3fc6fece4"
      },
      "execution_count": 65,
      "outputs": [
        {
          "output_type": "stream",
          "name": "stdout",
          "text": [
            "<class 'pandas.core.series.Series'>\n",
            "Index: 11119 entries, 1 to 45641\n",
            "Series name: language_code\n",
            "Non-Null Count  Dtype \n",
            "--------------  ----- \n",
            "11119 non-null  object\n",
            "dtypes: object(1)\n",
            "memory usage: 173.7+ KB\n"
          ]
        }
      ]
    },
    {
      "cell_type": "code",
      "source": [
        "print('Banyak Bahasa: ', len(data['language_code'].unique()))"
      ],
      "metadata": {
        "colab": {
          "base_uri": "https://localhost:8080/"
        },
        "id": "3tjtAK6OeqLQ",
        "outputId": "5829087d-f2d8-4059-dd92-3acff264044a"
      },
      "execution_count": 66,
      "outputs": [
        {
          "output_type": "stream",
          "name": "stdout",
          "text": [
            "Banyak Bahasa:  27\n"
          ]
        }
      ]
    },
    {
      "cell_type": "code",
      "source": [
        "print('Language: ', data['language_code'].unique())"
      ],
      "metadata": {
        "colab": {
          "base_uri": "https://localhost:8080/"
        },
        "id": "d_LyZ3_KezqX",
        "outputId": "ad30c387-46dd-41a5-814a-503a70af062f"
      },
      "execution_count": 67,
      "outputs": [
        {
          "output_type": "stream",
          "name": "stdout",
          "text": [
            "Language:  ['eng' 'en-US' 'fre' 'spa' 'en-GB' 'mul' 'grc' 'enm' 'en-CA' 'ger' 'jpn'\n",
            " 'ara' 'nl' 'zho' 'lat' 'por' 'srp' 'ita' 'rus' 'msa' 'glg' 'wel' 'swe'\n",
            " 'nor' 'tur' 'gla' 'ale']\n"
          ]
        }
      ]
    },
    {
      "cell_type": "markdown",
      "source": [
        "Terdapat 27 jenis bahasa."
      ],
      "metadata": {
        "id": "DcS_Jjg1e56K"
      }
    },
    {
      "cell_type": "markdown",
      "source": [
        "## Peubah Num Pages"
      ],
      "metadata": {
        "id": "mixAjjEffLlX"
      }
    },
    {
      "cell_type": "code",
      "source": [
        "data['  num_pages'].info()"
      ],
      "metadata": {
        "colab": {
          "base_uri": "https://localhost:8080/"
        },
        "id": "_UBmyuXRfPYo",
        "outputId": "f55d6fb3-10a3-49d6-a12a-14aa52dd1658"
      },
      "execution_count": 68,
      "outputs": [
        {
          "output_type": "stream",
          "name": "stdout",
          "text": [
            "<class 'pandas.core.series.Series'>\n",
            "Index: 11119 entries, 1 to 45641\n",
            "Series name:   num_pages\n",
            "Non-Null Count  Dtype\n",
            "--------------  -----\n",
            "11119 non-null  int64\n",
            "dtypes: int64(1)\n",
            "memory usage: 173.7 KB\n"
          ]
        }
      ]
    },
    {
      "cell_type": "code",
      "source": [
        "data['  num_pages'].describe()"
      ],
      "metadata": {
        "colab": {
          "base_uri": "https://localhost:8080/",
          "height": 335
        },
        "id": "7OdVuacEgPt3",
        "outputId": "1ff83162-7ebe-42ac-87ea-5a73148e4021"
      },
      "execution_count": 69,
      "outputs": [
        {
          "output_type": "execute_result",
          "data": {
            "text/plain": [
              "count    11119.000000\n",
              "mean       336.439788\n",
              "std        241.177969\n",
              "min          0.000000\n",
              "25%        192.000000\n",
              "50%        299.000000\n",
              "75%        416.000000\n",
              "max       6576.000000\n",
              "Name:   num_pages, dtype: float64"
            ],
            "text/html": [
              "<div>\n",
              "<style scoped>\n",
              "    .dataframe tbody tr th:only-of-type {\n",
              "        vertical-align: middle;\n",
              "    }\n",
              "\n",
              "    .dataframe tbody tr th {\n",
              "        vertical-align: top;\n",
              "    }\n",
              "\n",
              "    .dataframe thead th {\n",
              "        text-align: right;\n",
              "    }\n",
              "</style>\n",
              "<table border=\"1\" class=\"dataframe\">\n",
              "  <thead>\n",
              "    <tr style=\"text-align: right;\">\n",
              "      <th></th>\n",
              "      <th>num_pages</th>\n",
              "    </tr>\n",
              "  </thead>\n",
              "  <tbody>\n",
              "    <tr>\n",
              "      <th>count</th>\n",
              "      <td>11119.000000</td>\n",
              "    </tr>\n",
              "    <tr>\n",
              "      <th>mean</th>\n",
              "      <td>336.439788</td>\n",
              "    </tr>\n",
              "    <tr>\n",
              "      <th>std</th>\n",
              "      <td>241.177969</td>\n",
              "    </tr>\n",
              "    <tr>\n",
              "      <th>min</th>\n",
              "      <td>0.000000</td>\n",
              "    </tr>\n",
              "    <tr>\n",
              "      <th>25%</th>\n",
              "      <td>192.000000</td>\n",
              "    </tr>\n",
              "    <tr>\n",
              "      <th>50%</th>\n",
              "      <td>299.000000</td>\n",
              "    </tr>\n",
              "    <tr>\n",
              "      <th>75%</th>\n",
              "      <td>416.000000</td>\n",
              "    </tr>\n",
              "    <tr>\n",
              "      <th>max</th>\n",
              "      <td>6576.000000</td>\n",
              "    </tr>\n",
              "  </tbody>\n",
              "</table>\n",
              "</div><br><label><b>dtype:</b> float64</label>"
            ]
          },
          "metadata": {},
          "execution_count": 69
        }
      ]
    },
    {
      "cell_type": "markdown",
      "source": [
        "Dapat dilihat halaman maksimal buku adlaah 6576 dan minimumnya adalah 0, dengan rata-rata 336 halaman"
      ],
      "metadata": {
        "id": "Kyj99n_NgPKy"
      }
    },
    {
      "cell_type": "markdown",
      "source": [
        "## Peubah Ratings Count"
      ],
      "metadata": {
        "id": "K2lfBgLogKHu"
      }
    },
    {
      "cell_type": "code",
      "source": [
        "data['ratings_count'].info()"
      ],
      "metadata": {
        "colab": {
          "base_uri": "https://localhost:8080/"
        },
        "id": "rOokgFYWggJl",
        "outputId": "223d6309-c002-4a95-cf3b-2a5acde3f5b4"
      },
      "execution_count": 70,
      "outputs": [
        {
          "output_type": "stream",
          "name": "stdout",
          "text": [
            "<class 'pandas.core.series.Series'>\n",
            "Index: 11119 entries, 1 to 45641\n",
            "Series name: ratings_count\n",
            "Non-Null Count  Dtype\n",
            "--------------  -----\n",
            "11119 non-null  int64\n",
            "dtypes: int64(1)\n",
            "memory usage: 173.7 KB\n"
          ]
        }
      ]
    },
    {
      "cell_type": "code",
      "source": [
        "data['ratings_count'].describe()"
      ],
      "metadata": {
        "colab": {
          "base_uri": "https://localhost:8080/",
          "height": 335
        },
        "id": "j8rqRb_2gjSJ",
        "outputId": "aa1506ba-315d-4ef7-d062-507414baf90f"
      },
      "execution_count": 71,
      "outputs": [
        {
          "output_type": "execute_result",
          "data": {
            "text/plain": [
              "count    1.111900e+04\n",
              "mean     1.794832e+04\n",
              "std      1.125190e+05\n",
              "min      0.000000e+00\n",
              "25%      1.040000e+02\n",
              "50%      7.450000e+02\n",
              "75%      5.000500e+03\n",
              "max      4.597666e+06\n",
              "Name: ratings_count, dtype: float64"
            ],
            "text/html": [
              "<div>\n",
              "<style scoped>\n",
              "    .dataframe tbody tr th:only-of-type {\n",
              "        vertical-align: middle;\n",
              "    }\n",
              "\n",
              "    .dataframe tbody tr th {\n",
              "        vertical-align: top;\n",
              "    }\n",
              "\n",
              "    .dataframe thead th {\n",
              "        text-align: right;\n",
              "    }\n",
              "</style>\n",
              "<table border=\"1\" class=\"dataframe\">\n",
              "  <thead>\n",
              "    <tr style=\"text-align: right;\">\n",
              "      <th></th>\n",
              "      <th>ratings_count</th>\n",
              "    </tr>\n",
              "  </thead>\n",
              "  <tbody>\n",
              "    <tr>\n",
              "      <th>count</th>\n",
              "      <td>1.111900e+04</td>\n",
              "    </tr>\n",
              "    <tr>\n",
              "      <th>mean</th>\n",
              "      <td>1.794832e+04</td>\n",
              "    </tr>\n",
              "    <tr>\n",
              "      <th>std</th>\n",
              "      <td>1.125190e+05</td>\n",
              "    </tr>\n",
              "    <tr>\n",
              "      <th>min</th>\n",
              "      <td>0.000000e+00</td>\n",
              "    </tr>\n",
              "    <tr>\n",
              "      <th>25%</th>\n",
              "      <td>1.040000e+02</td>\n",
              "    </tr>\n",
              "    <tr>\n",
              "      <th>50%</th>\n",
              "      <td>7.450000e+02</td>\n",
              "    </tr>\n",
              "    <tr>\n",
              "      <th>75%</th>\n",
              "      <td>5.000500e+03</td>\n",
              "    </tr>\n",
              "    <tr>\n",
              "      <th>max</th>\n",
              "      <td>4.597666e+06</td>\n",
              "    </tr>\n",
              "  </tbody>\n",
              "</table>\n",
              "</div><br><label><b>dtype:</b> float64</label>"
            ]
          },
          "metadata": {},
          "execution_count": 71
        }
      ]
    },
    {
      "cell_type": "markdown",
      "source": [
        "Dapat dilihat bahwa ratings count maksimumnya adalah 4,597 dan minimumnya adalah 0."
      ],
      "metadata": {
        "id": "5X-bgo_ygoua"
      }
    },
    {
      "cell_type": "markdown",
      "source": [
        "## Peubah teks reviews count"
      ],
      "metadata": {
        "id": "SaeUUkKXg5to"
      }
    },
    {
      "cell_type": "code",
      "source": [
        "data['text_reviews_count'].info()"
      ],
      "metadata": {
        "colab": {
          "base_uri": "https://localhost:8080/"
        },
        "id": "dezhcCY5g-xI",
        "outputId": "e39be27f-5f4e-46c1-ded8-0bfffde332dd"
      },
      "execution_count": 72,
      "outputs": [
        {
          "output_type": "stream",
          "name": "stdout",
          "text": [
            "<class 'pandas.core.series.Series'>\n",
            "Index: 11119 entries, 1 to 45641\n",
            "Series name: text_reviews_count\n",
            "Non-Null Count  Dtype\n",
            "--------------  -----\n",
            "11119 non-null  int64\n",
            "dtypes: int64(1)\n",
            "memory usage: 173.7 KB\n"
          ]
        }
      ]
    },
    {
      "cell_type": "code",
      "source": [
        "data['text_reviews_count'].describe()"
      ],
      "metadata": {
        "colab": {
          "base_uri": "https://localhost:8080/",
          "height": 335
        },
        "id": "TN2JB02EhRX0",
        "outputId": "41d42bf1-57af-4879-f6fe-9de78edf48d2"
      },
      "execution_count": 73,
      "outputs": [
        {
          "output_type": "execute_result",
          "data": {
            "text/plain": [
              "count    11119.000000\n",
              "mean       542.167371\n",
              "std       2577.069549\n",
              "min          0.000000\n",
              "25%          9.000000\n",
              "50%         47.000000\n",
              "75%        238.000000\n",
              "max      94265.000000\n",
              "Name: text_reviews_count, dtype: float64"
            ],
            "text/html": [
              "<div>\n",
              "<style scoped>\n",
              "    .dataframe tbody tr th:only-of-type {\n",
              "        vertical-align: middle;\n",
              "    }\n",
              "\n",
              "    .dataframe tbody tr th {\n",
              "        vertical-align: top;\n",
              "    }\n",
              "\n",
              "    .dataframe thead th {\n",
              "        text-align: right;\n",
              "    }\n",
              "</style>\n",
              "<table border=\"1\" class=\"dataframe\">\n",
              "  <thead>\n",
              "    <tr style=\"text-align: right;\">\n",
              "      <th></th>\n",
              "      <th>text_reviews_count</th>\n",
              "    </tr>\n",
              "  </thead>\n",
              "  <tbody>\n",
              "    <tr>\n",
              "      <th>count</th>\n",
              "      <td>11119.000000</td>\n",
              "    </tr>\n",
              "    <tr>\n",
              "      <th>mean</th>\n",
              "      <td>542.167371</td>\n",
              "    </tr>\n",
              "    <tr>\n",
              "      <th>std</th>\n",
              "      <td>2577.069549</td>\n",
              "    </tr>\n",
              "    <tr>\n",
              "      <th>min</th>\n",
              "      <td>0.000000</td>\n",
              "    </tr>\n",
              "    <tr>\n",
              "      <th>25%</th>\n",
              "      <td>9.000000</td>\n",
              "    </tr>\n",
              "    <tr>\n",
              "      <th>50%</th>\n",
              "      <td>47.000000</td>\n",
              "    </tr>\n",
              "    <tr>\n",
              "      <th>75%</th>\n",
              "      <td>238.000000</td>\n",
              "    </tr>\n",
              "    <tr>\n",
              "      <th>max</th>\n",
              "      <td>94265.000000</td>\n",
              "    </tr>\n",
              "  </tbody>\n",
              "</table>\n",
              "</div><br><label><b>dtype:</b> float64</label>"
            ]
          },
          "metadata": {},
          "execution_count": 73
        }
      ]
    },
    {
      "cell_type": "markdown",
      "source": [
        "Dapat dilihat bahwa text reviews countnya maksimum sebanyak 94.265 dan paling minimum 0."
      ],
      "metadata": {
        "id": "z1VCRP5NhX1l"
      }
    },
    {
      "cell_type": "markdown",
      "source": [
        "## Peubah Publication Date"
      ],
      "metadata": {
        "id": "Hsi75hbShn3c"
      }
    },
    {
      "cell_type": "markdown",
      "source": [
        "### Mengonversi Peubah Publication Date ke tipe Datetime"
      ],
      "metadata": {
        "id": "-4y4H113rw-a"
      }
    },
    {
      "cell_type": "code",
      "source": [
        "data['publication_date'] = pd.to_datetime(data['publication_date'], errors='coerce')\n",
        "data.info()"
      ],
      "metadata": {
        "colab": {
          "base_uri": "https://localhost:8080/"
        },
        "id": "eMmgx2L9r3J9",
        "outputId": "fcbd4e3f-a6cd-4929-e80a-f8cd2acb76df"
      },
      "execution_count": 74,
      "outputs": [
        {
          "output_type": "stream",
          "name": "stdout",
          "text": [
            "<class 'pandas.core.frame.DataFrame'>\n",
            "Index: 11119 entries, 1 to 45641\n",
            "Data columns (total 11 columns):\n",
            " #   Column              Non-Null Count  Dtype         \n",
            "---  ------              --------------  -----         \n",
            " 0   title               11119 non-null  object        \n",
            " 1   authors             11119 non-null  object        \n",
            " 2   average_rating      11119 non-null  float64       \n",
            " 3   isbn                11119 non-null  object        \n",
            " 4   isbn13              11119 non-null  int64         \n",
            " 5   language_code       11119 non-null  object        \n",
            " 6     num_pages         11119 non-null  int64         \n",
            " 7   ratings_count       11119 non-null  int64         \n",
            " 8   text_reviews_count  11119 non-null  int64         \n",
            " 9   publication_date    11117 non-null  datetime64[ns]\n",
            " 10  publisher           11119 non-null  object        \n",
            "dtypes: datetime64[ns](1), float64(1), int64(4), object(5)\n",
            "memory usage: 1.0+ MB\n"
          ]
        }
      ]
    },
    {
      "cell_type": "code",
      "source": [
        "data['publication_date'].info()"
      ],
      "metadata": {
        "colab": {
          "base_uri": "https://localhost:8080/"
        },
        "id": "8QKtW1_NhvqY",
        "outputId": "3a187957-16b5-4c7e-b188-cc2faafaaec2"
      },
      "execution_count": 75,
      "outputs": [
        {
          "output_type": "stream",
          "name": "stdout",
          "text": [
            "<class 'pandas.core.series.Series'>\n",
            "Index: 11119 entries, 1 to 45641\n",
            "Series name: publication_date\n",
            "Non-Null Count  Dtype         \n",
            "--------------  -----         \n",
            "11117 non-null  datetime64[ns]\n",
            "dtypes: datetime64[ns](1)\n",
            "memory usage: 173.7 KB\n"
          ]
        }
      ]
    },
    {
      "cell_type": "code",
      "source": [
        "data['publication_date'].describe()"
      ],
      "metadata": {
        "colab": {
          "base_uri": "https://localhost:8080/",
          "height": 303
        },
        "id": "EqnbtSd7zE9b",
        "outputId": "ebe6f018-3d76-4031-92de-49cb8c3b31f7"
      },
      "execution_count": 76,
      "outputs": [
        {
          "output_type": "execute_result",
          "data": {
            "text/plain": [
              "count                            11117\n",
              "mean     2000-08-29 17:35:48.601241472\n",
              "min                1900-01-01 00:00:00\n",
              "25%                1998-07-21 00:00:00\n",
              "50%                2003-03-01 00:00:00\n",
              "75%                2005-10-01 00:00:00\n",
              "max                2020-03-31 00:00:00\n",
              "Name: publication_date, dtype: object"
            ],
            "text/html": [
              "<div>\n",
              "<style scoped>\n",
              "    .dataframe tbody tr th:only-of-type {\n",
              "        vertical-align: middle;\n",
              "    }\n",
              "\n",
              "    .dataframe tbody tr th {\n",
              "        vertical-align: top;\n",
              "    }\n",
              "\n",
              "    .dataframe thead th {\n",
              "        text-align: right;\n",
              "    }\n",
              "</style>\n",
              "<table border=\"1\" class=\"dataframe\">\n",
              "  <thead>\n",
              "    <tr style=\"text-align: right;\">\n",
              "      <th></th>\n",
              "      <th>publication_date</th>\n",
              "    </tr>\n",
              "  </thead>\n",
              "  <tbody>\n",
              "    <tr>\n",
              "      <th>count</th>\n",
              "      <td>11117</td>\n",
              "    </tr>\n",
              "    <tr>\n",
              "      <th>mean</th>\n",
              "      <td>2000-08-29 17:35:48.601241472</td>\n",
              "    </tr>\n",
              "    <tr>\n",
              "      <th>min</th>\n",
              "      <td>1900-01-01 00:00:00</td>\n",
              "    </tr>\n",
              "    <tr>\n",
              "      <th>25%</th>\n",
              "      <td>1998-07-21 00:00:00</td>\n",
              "    </tr>\n",
              "    <tr>\n",
              "      <th>50%</th>\n",
              "      <td>2003-03-01 00:00:00</td>\n",
              "    </tr>\n",
              "    <tr>\n",
              "      <th>75%</th>\n",
              "      <td>2005-10-01 00:00:00</td>\n",
              "    </tr>\n",
              "    <tr>\n",
              "      <th>max</th>\n",
              "      <td>2020-03-31 00:00:00</td>\n",
              "    </tr>\n",
              "  </tbody>\n",
              "</table>\n",
              "</div><br><label><b>dtype:</b> object</label>"
            ]
          },
          "metadata": {},
          "execution_count": 76
        }
      ]
    },
    {
      "cell_type": "markdown",
      "source": [
        "Dapat dilihat bahwa buku dengan publication date terlama adalah pada tanggal 1 Januari 1900 dan yang terbaru adalah 31 Maret 2020."
      ],
      "metadata": {
        "id": "UxqdGKiKzJ2N"
      }
    },
    {
      "cell_type": "markdown",
      "source": [
        "## Peubah Publisher"
      ],
      "metadata": {
        "id": "XM23bq64hrXw"
      }
    },
    {
      "cell_type": "code",
      "source": [
        "data['publisher'].info()"
      ],
      "metadata": {
        "colab": {
          "base_uri": "https://localhost:8080/"
        },
        "id": "CHL2sTTHiNz2",
        "outputId": "ae983d18-90a7-467c-9d0f-b10b1b4b75aa"
      },
      "execution_count": 77,
      "outputs": [
        {
          "output_type": "stream",
          "name": "stdout",
          "text": [
            "<class 'pandas.core.series.Series'>\n",
            "Index: 11119 entries, 1 to 45641\n",
            "Series name: publisher\n",
            "Non-Null Count  Dtype \n",
            "--------------  ----- \n",
            "11119 non-null  object\n",
            "dtypes: object(1)\n",
            "memory usage: 173.7+ KB\n"
          ]
        }
      ]
    },
    {
      "cell_type": "code",
      "source": [
        "print('Publisher: ', len(data['publisher'].unique()))"
      ],
      "metadata": {
        "colab": {
          "base_uri": "https://localhost:8080/"
        },
        "id": "PfeIl_mmiTic",
        "outputId": "8cdf1fb4-ca46-4776-9544-b79323f456d5"
      },
      "execution_count": 78,
      "outputs": [
        {
          "output_type": "stream",
          "name": "stdout",
          "text": [
            "Publisher:  2289\n"
          ]
        }
      ]
    },
    {
      "cell_type": "markdown",
      "source": [
        "Terdapat sebanyak 2289 publisher."
      ],
      "metadata": {
        "id": "LbveaJjNigvT"
      }
    },
    {
      "cell_type": "markdown",
      "source": [
        "# Visualisasi"
      ],
      "metadata": {
        "id": "nP5-7UBOLrz3"
      }
    },
    {
      "cell_type": "markdown",
      "source": [
        "### Visualisasi Peubah Title"
      ],
      "metadata": {
        "id": "AQHl4tA9pxkW"
      }
    },
    {
      "cell_type": "code",
      "source": [
        "top_titles = data['title'].value_counts().nlargest(10)\n",
        "\n",
        "plt.figure(figsize=(12, 6))\n",
        "sns.barplot(x=top_titles.values, y=top_titles.index, palette='viridis')\n",
        "\n",
        "for i, v in enumerate(top_titles.values):\n",
        "    plt.text(v + 0.1, i, str(v), color='black', va='center')\n",
        "\n",
        "plt.title('Top 10 Most Frequent Book Titles')\n",
        "plt.xlabel('Frequency')\n",
        "plt.ylabel('Book Title')\n",
        "plt.tight_layout()\n",
        "plt.show()"
      ],
      "metadata": {
        "colab": {
          "base_uri": "https://localhost:8080/",
          "height": 608
        },
        "id": "JQ7gDw7ILtu6",
        "outputId": "183185fa-e2e0-46fd-e825-bc6835acc9b4"
      },
      "execution_count": 79,
      "outputs": [
        {
          "output_type": "stream",
          "name": "stderr",
          "text": [
            "<ipython-input-79-1344046237>:4: FutureWarning: \n",
            "\n",
            "Passing `palette` without assigning `hue` is deprecated and will be removed in v0.14.0. Assign the `y` variable to `hue` and set `legend=False` for the same effect.\n",
            "\n",
            "  sns.barplot(x=top_titles.values, y=top_titles.index, palette='viridis')\n"
          ]
        },
        {
          "output_type": "display_data",
          "data": {
            "text/plain": [
              "<Figure size 1200x600 with 1 Axes>"
            ],
            "image/png": "[encoded data removed]"
          },
          "metadata": {}
        }
      ]
    },
    {
      "cell_type": "markdown",
      "source": [
        "Barchart ini menunjukkan 10 judul buku yang paling sering ditemukan dalam dataset. Judul buku yang paling sering muncul adalah The Brothers Karamazov dan The Iliad, masing-masing dengan frekuensi 9 kali. Diikuti oleh beberapa judul lain seperti 'Salem's Lot dan The Odyssey yang muncul sebanyak 8 kali. Barchart ini menggambarkan popularitas berbagai buku dalam koleksi data yang digunakan."
      ],
      "metadata": {
        "id": "7ok6ZwbBs-oO"
      }
    },
    {
      "cell_type": "markdown",
      "source": [
        "### Visualisasi Peubah Authors"
      ],
      "metadata": {
        "id": "UQlzlYV2p9SG"
      }
    },
    {
      "cell_type": "code",
      "source": [
        "top_authors = data['authors'].value_counts().nlargest(10)\n",
        "plt.figure(figsize=(12, 6))\n",
        "sns.barplot(x=top_authors.values, y=top_authors.index, palette='viridis')\n",
        "\n",
        "for i, v in enumerate(top_authors.values):\n",
        "    plt.text(v + 0.1, i, str(v), color='black', va='center')\n",
        "\n",
        "plt.title('Top 10 Most Frequent Authors')\n",
        "plt.xlabel('Frequency')\n",
        "plt.ylabel('Author')\n",
        "plt.tight_layout()\n",
        "plt.show()"
      ],
      "metadata": {
        "colab": {
          "base_uri": "https://localhost:8080/",
          "height": 608
        },
        "id": "lo5TUF7Qp2iy",
        "outputId": "4d46b46e-b010-4801-a55e-2707cd17d97c"
      },
      "execution_count": 80,
      "outputs": [
        {
          "output_type": "stream",
          "name": "stderr",
          "text": [
            "<ipython-input-80-1345054590>:3: FutureWarning: \n",
            "\n",
            "Passing `palette` without assigning `hue` is deprecated and will be removed in v0.14.0. Assign the `y` variable to `hue` and set `legend=False` for the same effect.\n",
            "\n",
            "  sns.barplot(x=top_authors.values, y=top_authors.index, palette='viridis')\n"
          ]
        },
        {
          "output_type": "display_data",
          "data": {
            "text/plain": [
              "<Figure size 1200x600 with 1 Axes>"
            ],
            "image/png": "[encoded data removed]"
          },
          "metadata": {}
        }
      ]
    },
    {
      "cell_type": "markdown",
      "source": [
        "Barchart di atas menampilkan 10 penulis yang paling sering muncul dalam dataset. Penulis yang paling sering ditemukan adalah Stephen King dan P.G. Wodehouse, masing-masing dengan 40 kali kemunculan. Penulis lainnya seperti Rumiko Takahashi dan Orson Scott Card juga sering muncul dalam dataset, dengan frekuensi 39 dan 35, masing-masing. Barchart ini menggambarkan dominasi penulis tertentu dalam koleksi buku yang dianalisis."
      ],
      "metadata": {
        "id": "F75oWNjrthX2"
      }
    },
    {
      "cell_type": "markdown",
      "source": [
        "### Visualisasi Peubah Average Rating"
      ],
      "metadata": {
        "id": "ng1XTtN8qBga"
      }
    },
    {
      "cell_type": "code",
      "source": [
        "plt.figure(figsize=(8, 5))\n",
        "sns.histplot(data['average_rating'], bins=20, kde=True, color='skyblue')\n",
        "plt.title('Distribution of Average Rating')\n",
        "plt.xlabel('Average Rating')\n",
        "plt.ylabel('Frequency')\n",
        "plt.tight_layout()\n",
        "plt.show()"
      ],
      "metadata": {
        "colab": {
          "base_uri": "https://localhost:8080/",
          "height": 507
        },
        "id": "nAb5YPVlqA6q",
        "outputId": "9dea6083-a340-441f-e241-247e043c145a"
      },
      "execution_count": 81,
      "outputs": [
        {
          "output_type": "display_data",
          "data": {
            "text/plain": [
              "<Figure size 800x500 with 1 Axes>"
            ],
            "image/png": "[encoded data removed]"
          },
          "metadata": {}
        }
      ]
    },
    {
      "cell_type": "markdown",
      "source": [
        "Grafik di atas menunjukkan distribusi rating rata-rata dari buku-buku dalam dataset. Sebagian besar buku memiliki rating antara 3 hingga 4, dengan frekuensi tertinggi di sekitar 4. Hal ini menunjukkan bahwa sebagian besar buku mendapatkan penilaian yang baik. Namun, ada juga buku dengan rating yang lebih rendah, meskipun jumlahnya lebih sedikit."
      ],
      "metadata": {
        "id": "Qd4KIRaZtrGL"
      }
    },
    {
      "cell_type": "markdown",
      "source": [
        "### Visualisasi Peubah Language Code"
      ],
      "metadata": {
        "id": "pqHEoXBRqIsV"
      }
    },
    {
      "cell_type": "code",
      "source": [
        "plt.figure(figsize=(10, 6))\n",
        "sns.countplot(y=data['language_code'], order=data['language_code'].value_counts().index, palette='plasma')\n",
        "\n",
        "for i, v in enumerate(data['language_code'].value_counts().values):\n",
        "    plt.text(v + 0.1, i, str(v), color='black', va='center')\n",
        "\n",
        "plt.title('Count of Books by Language Code')\n",
        "plt.xlabel('Count')\n",
        "plt.ylabel('Language Code')\n",
        "plt.tight_layout()\n",
        "plt.show()"
      ],
      "metadata": {
        "colab": {
          "base_uri": "https://localhost:8080/",
          "height": 705
        },
        "id": "BqsIRXW0qKZ_",
        "outputId": "0382f016-7dc6-41da-e62a-c96e4a376aeb"
      },
      "execution_count": 82,
      "outputs": [
        {
          "output_type": "stream",
          "name": "stderr",
          "text": [
            "<ipython-input-82-369967459>:2: FutureWarning: \n",
            "\n",
            "Passing `palette` without assigning `hue` is deprecated and will be removed in v0.14.0. Assign the `y` variable to `hue` and set `legend=False` for the same effect.\n",
            "\n",
            "  sns.countplot(y=data['language_code'], order=data['language_code'].value_counts().index, palette='plasma')\n"
          ]
        },
        {
          "output_type": "display_data",
          "data": {
            "text/plain": [
              "<Figure size 1000x600 with 1 Axes>"
            ],
            "image/png": "[encoded data removed]"
          },
          "metadata": {}
        }
      ]
    },
    {
      "cell_type": "markdown",
      "source": [
        "Grafik ini menggambarkan jumlah buku berdasarkan kode bahasa yang terdaftar dalam dataset. Buku dalam bahasa Inggris (kode bahasa eng) mendominasi dengan jumlah yang sangat tinggi, yaitu 8906 buku. Bahasa lainnya seperti Spanyol (spa) dan Inggris (kode en-US dan en-GB) juga memiliki jumlah yang cukup signifikan, meskipun jauh lebih sedikit dibandingkan bahasa Inggris."
      ],
      "metadata": {
        "id": "YmrH2fq5t0kT"
      }
    },
    {
      "cell_type": "markdown",
      "source": [
        "### Visualisasi Peubah Num Pages"
      ],
      "metadata": {
        "id": "1edfuIOKqiyI"
      }
    },
    {
      "cell_type": "code",
      "source": [
        "plt.figure(figsize=(8, 5))\n",
        "sns.histplot(data['  num_pages'], bins=50, kde=True, color='coral')\n",
        "plt.title('Distribution of Number of Pages')\n",
        "plt.xlabel('Number of Pages')\n",
        "plt.ylabel('Frequency')\n",
        "plt.xlim(0, data['  num_pages'].quantile(0.99)) # Batasi x-axis untuk melihat distribusi yang lebih jelas\n",
        "plt.tight_layout()\n",
        "plt.show()"
      ],
      "metadata": {
        "colab": {
          "base_uri": "https://localhost:8080/",
          "height": 507
        },
        "id": "tMF8Wf4Rqkb5",
        "outputId": "fb371e64-a7ea-4cd8-dcce-b163a9536e40"
      },
      "execution_count": 83,
      "outputs": [
        {
          "output_type": "display_data",
          "data": {
            "text/plain": [
              "<Figure size 800x500 with 1 Axes>"
            ],
            "image/png": "[encoded data removed]"
          },
          "metadata": {}
        }
      ]
    },
    {
      "cell_type": "markdown",
      "source": [
        "Grafik ini menunjukkan distribusi jumlah halaman buku. Sebagian besar buku memiliki jumlah halaman antara 100 hingga 400 halaman, dengan puncaknya pada sekitar 200 halaman. Buku dengan jumlah halaman lebih sedikit atau lebih banyak sangat jarang ditemukan."
      ],
      "metadata": {
        "id": "2VXXGOy3vQNW"
      }
    },
    {
      "cell_type": "markdown",
      "source": [
        "### Visualisasi Peubah Rating Count"
      ],
      "metadata": {
        "id": "CNQl0QZaqxwy"
      }
    },
    {
      "cell_type": "code",
      "source": [
        "plt.figure(figsize=(8, 5))\n",
        "sns.histplot(data['ratings_count'], bins=50, kde=True, color='purple')\n",
        "plt.title('Distribution of Ratings Count')\n",
        "plt.xlabel('Ratings Count')\n",
        "plt.ylabel('Frequency')\n",
        "plt.xlim(0, data['ratings_count'].quantile(0.95)) # Batasi x-axis\n",
        "plt.tight_layout()\n",
        "plt.show()"
      ],
      "metadata": {
        "colab": {
          "base_uri": "https://localhost:8080/",
          "height": 507
        },
        "id": "YzPvS9c-qzL5",
        "outputId": "ef5e4b79-4805-48b5-a7b0-cabb88904cda"
      },
      "execution_count": 84,
      "outputs": [
        {
          "output_type": "display_data",
          "data": {
            "text/plain": [
              "<Figure size 800x500 with 1 Axes>"
            ],
            "image/png": "[encoded data removed]"
          },
          "metadata": {}
        }
      ]
    },
    {
      "cell_type": "markdown",
      "source": [
        "Grafik ini menggambarkan distribusi jumlah rating yang diterima oleh buku. Kebanyakan buku memiliki jumlah rating yang rendah, dengan sedikit buku yang memiliki ribuan rating. Ini menunjukkan bahwa sebagian besar buku hanya menerima sedikit ulasan atau rating dari pembaca."
      ],
      "metadata": {
        "id": "URwDjYcPvSmc"
      }
    },
    {
      "cell_type": "markdown",
      "source": [
        "### Visualisasi Peubah Text Review Count"
      ],
      "metadata": {
        "id": "i7xo7uNsq4Q6"
      }
    },
    {
      "cell_type": "code",
      "source": [
        "plt.figure(figsize=(8, 5))\n",
        "sns.histplot(data['text_reviews_count'], bins=50, kde=True, color='teal')\n",
        "plt.title('Distribution of Text Review Count')\n",
        "plt.xlabel('Text Review Count')\n",
        "plt.ylabel('Frequency')\n",
        "plt.xlim(0, data['text_reviews_count'].quantile(0.95)) # Batasi x-axis\n",
        "plt.tight_layout()\n",
        "plt.show()"
      ],
      "metadata": {
        "colab": {
          "base_uri": "https://localhost:8080/",
          "height": 507
        },
        "id": "LOPhtJpoq5-1",
        "outputId": "2b15d82b-1528-469c-de0c-2879910dd4ee"
      },
      "execution_count": 85,
      "outputs": [
        {
          "output_type": "display_data",
          "data": {
            "text/plain": [
              "<Figure size 800x500 with 1 Axes>"
            ],
            "image/png": "[encoded data removed]"
          },
          "metadata": {}
        }
      ]
    },
    {
      "cell_type": "markdown",
      "source": [
        "Grafik ini menunjukkan distribusi jumlah ulasan teks untuk buku-buku dalam dataset. Sebagian besar buku memiliki ulasan teks yang sedikit, dengan jumlah ulasan yang lebih tinggi secara signifikan pada beberapa buku yang lebih populer. Hal ini mencerminkan bahwa buku dengan ulasan teks lebih banyak cenderung lebih dikenal atau lebih banyak dibaca."
      ],
      "metadata": {
        "id": "S14F88swvVp2"
      }
    },
    {
      "cell_type": "markdown",
      "source": [
        "### Visualisasi Peubah Publication Date"
      ],
      "metadata": {
        "id": "zRcWFlSJrImN"
      }
    },
    {
      "cell_type": "code",
      "source": [
        "data['publication_year'] = pd.to_datetime(data['publication_date'], errors='coerce').dt.year\n",
        "plt.figure(figsize=(12, 6))\n",
        "sns.histplot(data['publication_year'].dropna(), bins=50, kde=True, color='olive')\n",
        "plt.title('Distribution of Publication Year')\n",
        "plt.xlabel('Publication Year')\n",
        "plt.ylabel('Frequency')\n",
        "plt.tight_layout()\n",
        "plt.show()"
      ],
      "metadata": {
        "colab": {
          "base_uri": "https://localhost:8080/",
          "height": 497
        },
        "id": "qBf5ukVLrKiP",
        "outputId": "0e623217-5276-42dd-90c8-bb2b444bfa85"
      },
      "execution_count": 86,
      "outputs": [
        {
          "output_type": "display_data",
          "data": {
            "text/plain": [
              "<Figure size 1200x600 with 1 Axes>"
            ],
            "image/png": "[encoded data removed]"
          },
          "metadata": {}
        }
      ]
    },
    {
      "cell_type": "markdown",
      "source": [
        "Grafik ini menunjukkan distribusi tahun publikasi buku. Sebagian besar buku diterbitkan antara tahun 2000 hingga 2020, dengan puncaknya terjadi pada tahun 2000. Hal ini menunjukkan bahwa dataset ini didominasi oleh buku-buku yang diterbitkan pada abad ke-21."
      ],
      "metadata": {
        "id": "hSSUeyOyvZIa"
      }
    },
    {
      "cell_type": "markdown",
      "source": [
        "### Visualisasi Peubah Publisher"
      ],
      "metadata": {
        "id": "ltOLf-NgrPUP"
      }
    },
    {
      "cell_type": "code",
      "source": [
        "top_publishers = data['publisher'].value_counts().nlargest(10)\n",
        "plt.figure(figsize=(12, 6))\n",
        "sns.barplot(x=top_publishers.values, y=top_publishers.index, palette='viridis')\n",
        "\n",
        "for i, v in enumerate(top_publishers.values):\n",
        "    plt.text(v + 0.1, i, str(v), color='black', va='center')\n",
        "\n",
        "plt.title('Top 10 Most Frequent Publishers')\n",
        "plt.xlabel('Frequency')\n",
        "plt.ylabel('Publisher')\n",
        "plt.tight_layout()\n",
        "plt.show()"
      ],
      "metadata": {
        "colab": {
          "base_uri": "https://localhost:8080/",
          "height": 608
        },
        "id": "7SBqt1wSrRrh",
        "outputId": "79be4d7a-2c7c-447b-b518-497b7a033ae0"
      },
      "execution_count": 87,
      "outputs": [
        {
          "output_type": "stream",
          "name": "stderr",
          "text": [
            "<ipython-input-87-749024231>:3: FutureWarning: \n",
            "\n",
            "Passing `palette` without assigning `hue` is deprecated and will be removed in v0.14.0. Assign the `y` variable to `hue` and set `legend=False` for the same effect.\n",
            "\n",
            "  sns.barplot(x=top_publishers.values, y=top_publishers.index, palette='viridis')\n"
          ]
        },
        {
          "output_type": "display_data",
          "data": {
            "text/plain": [
              "<Figure size 1200x600 with 1 Axes>"
            ],
            "image/png": "[encoded data removed]"
          },
          "metadata": {}
        }
      ]
    },
    {
      "cell_type": "markdown",
      "source": [
        "Barchart di atas menampilkan 10 penerbit buku yang paling sering muncul dalam dataset. Penerbit yang paling sering ditemukan adalah Vintage dengan 318 buku, diikuti oleh Penguin Books dan Penguin Classics. Barchart ini menunjukkan penerbit-penerbit besar yang memiliki kontribusi signifikan terhadap koleksi buku yang dianalisis."
      ],
      "metadata": {
        "id": "lkHsMqJdvcK_"
      }
    },
    {
      "cell_type": "markdown",
      "source": [
        "# Data Preparation"
      ],
      "metadata": {
        "id": "BTMwqe5boMS-"
      }
    },
    {
      "cell_type": "markdown",
      "source": [
        "## Menyiapkan Data untuk Analisis Rekomendasi"
      ],
      "metadata": {
        "id": "CrwFQEHR67ss"
      }
    },
    {
      "cell_type": "markdown",
      "source": [
        "Peubah yang diambil adalah peubah title, authors, language code, dan publisher yang relevan dan merepresentasikan isi dan karakteristik buku."
      ],
      "metadata": {
        "id": "ERdQ5sRpzkfL"
      }
    },
    {
      "cell_type": "code",
      "source": [
        "# Menyiapkan Data untuk Analisis Rekomendasi\n",
        "df = pd.DataFrame({\n",
        "    'book_title': data['title'].tolist(),\n",
        "    'book_author': data['authors'].tolist(),\n",
        "    'language_code': data['language_code'].tolist(),\n",
        "    'publisher': data['publisher'].tolist()\n",
        "})"
      ],
      "metadata": {
        "id": "A8VgLunrDthQ"
      },
      "execution_count": 88,
      "outputs": []
    },
    {
      "cell_type": "markdown",
      "source": [
        "## Mengecek Missing Value"
      ],
      "metadata": {
        "id": "LbxmVvxtbKBz"
      }
    },
    {
      "cell_type": "code",
      "source": [
        "pd.DataFrame({'Nilai yang Kosong':df.isna().sum()})"
      ],
      "metadata": {
        "colab": {
          "base_uri": "https://localhost:8080/",
          "height": 175
        },
        "id": "1PK8kYR1bCsx",
        "outputId": "8da1d2ca-3d7e-47b4-988f-e266a20442ac"
      },
      "execution_count": 89,
      "outputs": [
        {
          "output_type": "execute_result",
          "data": {
            "text/plain": [
              "               Nilai yang Kosong\n",
              "book_title                     0\n",
              "book_author                    0\n",
              "language_code                  0\n",
              "publisher                      0"
            ],
            "text/html": [
              "\n",
              "  <div id=\"df-c902a14f-1e6a-45ad-bfd7-01bbb5ad5746\" class=\"colab-df-container\">\n",
              "    <div>\n",
              "<style scoped>\n",
              "    .dataframe tbody tr th:only-of-type {\n",
              "        vertical-align: middle;\n",
              "    }\n",
              "\n",
              "    .dataframe tbody tr th {\n",
              "        vertical-align: top;\n",
              "    }\n",
              "\n",
              "    .dataframe thead th {\n",
              "        text-align: right;\n",
              "    }\n",
              "</style>\n",
              "<table border=\"1\" class=\"dataframe\">\n",
              "  <thead>\n",
              "    <tr style=\"text-align: right;\">\n",
              "      <th></th>\n",
              "      <th>Nilai yang Kosong</th>\n",
              "    </tr>\n",
              "  </thead>\n",
              "  <tbody>\n",
              "    <tr>\n",
              "      <th>book_title</th>\n",
              "      <td>0</td>\n",
              "    </tr>\n",
              "    <tr>\n",
              "      <th>book_author</th>\n",
              "      <td>0</td>\n",
              "    </tr>\n",
              "    <tr>\n",
              "      <th>language_code</th>\n",
              "      <td>0</td>\n",
              "    </tr>\n",
              "    <tr>\n",
              "      <th>publisher</th>\n",
              "      <td>0</td>\n",
              "    </tr>\n",
              "  </tbody>\n",
              "</table>\n",
              "</div>\n",
              "    <div class=\"colab-df-buttons\">\n",
              "\n",
              "  <div class=\"colab-df-container\">\n",
              "    <button class=\"colab-df-convert\" onclick=\"convertToInteractive('df-c902a14f-1e6a-45ad-bfd7-01bbb5ad5746')\"\n",
              "            title=\"Convert this dataframe to an interactive table.\"\n",
              "            style=\"display:none;\">\n",
              "\n",
              "  <svg xmlns=\"http://www.w3.org/2000/svg\" height=\"24px\" viewBox=\"0 -960 960 960\">\n",
              "    <path d=\"M120-120v-720h720v720H120Zm60-500h600v-160H180v160Zm220 220h160v-160H400v160Zm0 220h160v-160H400v160ZM180-400h160v-160H180v160Zm440 0h160v-160H620v160ZM180-180h160v-160H180v160Zm440 0h160v-160H620v160Z\"/>\n",
              "  </svg>\n",
              "    </button>\n",
              "\n",
              "  <style>\n",
              "    .colab-df-container {\n",
              "      display:flex;\n",
              "      gap: 12px;\n",
              "    }\n",
              "\n",
              "    .colab-df-convert {\n",
              "      background-color: #E8F0FE;\n",
              "      border: none;\n",
              "      border-radius: 50%;\n",
              "      cursor: pointer;\n",
              "      display: none;\n",
              "      fill: #1967D2;\n",
              "      height: 32px;\n",
              "      padding: 0 0 0 0;\n",
              "      width: 32px;\n",
              "    }\n",
              "\n",
              "    .colab-df-convert:hover {\n",
              "      background-color: #E2EBFA;\n",
              "      box-shadow: 0px 1px 2px rgba(60, 64, 67, 0.3), 0px 1px 3px 1px rgba(60, 64, 67, 0.15);\n",
              "      fill: #174EA6;\n",
              "    }\n",
              "\n",
              "    .colab-df-buttons div {\n",
              "      margin-bottom: 4px;\n",
              "    }\n",
              "\n",
              "    [theme=dark] .colab-df-convert {\n",
              "      background-color: #3B4455;\n",
              "      fill: #D2E3FC;\n",
              "    }\n",
              "\n",
              "    [theme=dark] .colab-df-convert:hover {\n",
              "      background-color: #434B5C;\n",
              "      box-shadow: 0px 1px 3px 1px rgba(0, 0, 0, 0.15);\n",
              "      filter: drop-shadow(0px 1px 2px rgba(0, 0, 0, 0.3));\n",
              "      fill: #FFFFFF;\n",
              "    }\n",
              "  </style>\n",
              "\n",
              "    <script>\n",
              "      const buttonEl =\n",
              "        document.querySelector('#df-c902a14f-1e6a-45ad-bfd7-01bbb5ad5746 button.colab-df-convert');\n",
              "      buttonEl.style.display =\n",
              "        google.colab.kernel.accessAllowed ? 'block' : 'none';\n",
              "\n",
              "      async function convertToInteractive(key) {\n",
              "        const element = document.querySelector('#df-c902a14f-1e6a-45ad-bfd7-01bbb5ad5746');\n",
              "        const dataTable =\n",
              "          await google.colab.kernel.invokeFunction('convertToInteractive',\n",
              "                                                    [key], {});\n",
              "        if (!dataTable) return;\n",
              "\n",
              "        const docLinkHtml = 'Like what you see? Visit the ' +\n",
              "          '<a target=\"_blank\" href=https://colab.research.google.com/notebooks/data_table.ipynb>data table notebook</a>'\n",
              "          + ' to learn more about interactive tables.';\n",
              "        element.innerHTML = '';\n",
              "        dataTable['output_type'] = 'display_data';\n",
              "        await google.colab.output.renderOutput(dataTable, element);\n",
              "        const docLink = document.createElement('div');\n",
              "        docLink.innerHTML = docLinkHtml;\n",
              "        element.appendChild(docLink);\n",
              "      }\n",
              "    </script>\n",
              "  </div>\n",
              "\n",
              "\n",
              "    <div id=\"df-0c7131d8-5fb4-4348-83b8-9d508b853a13\">\n",
              "      <button class=\"colab-df-quickchart\" onclick=\"quickchart('df-0c7131d8-5fb4-4348-83b8-9d508b853a13')\"\n",
              "                title=\"Suggest charts\"\n",
              "                style=\"display:none;\">\n",
              "\n",
              "<svg xmlns=\"http://www.w3.org/2000/svg\" height=\"24px\"viewBox=\"0 0 24 24\"\n",
              "     width=\"24px\">\n",
              "    <g>\n",
              "        <path d=\"M19 3H5c-1.1 0-2 .9-2 2v14c0 1.1.9 2 2 2h14c1.1 0 2-.9 2-2V5c0-1.1-.9-2-2-2zM9 17H7v-7h2v7zm4 0h-2V7h2v10zm4 0h-2v-4h2v4z\"/>\n",
              "    </g>\n",
              "</svg>\n",
              "      </button>\n",
              "\n",
              "<style>\n",
              "  .colab-df-quickchart {\n",
              "      --bg-color: #E8F0FE;\n",
              "      --fill-color: #1967D2;\n",
              "      --hover-bg-color: #E2EBFA;\n",
              "      --hover-fill-color: #174EA6;\n",
              "      --disabled-fill-color: #AAA;\n",
              "      --disabled-bg-color: #DDD;\n",
              "  }\n",
              "\n",
              "  [theme=dark] .colab-df-quickchart {\n",
              "      --bg-color: #3B4455;\n",
              "      --fill-color: #D2E3FC;\n",
              "      --hover-bg-color: #434B5C;\n",
              "      --hover-fill-color: #FFFFFF;\n",
              "      --disabled-bg-color: #3B4455;\n",
              "      --disabled-fill-color: #666;\n",
              "  }\n",
              "\n",
              "  .colab-df-quickchart {\n",
              "    background-color: var(--bg-color);\n",
              "    border: none;\n",
              "    border-radius: 50%;\n",
              "    cursor: pointer;\n",
              "    display: none;\n",
              "    fill: var(--fill-color);\n",
              "    height: 32px;\n",
              "    padding: 0;\n",
              "    width: 32px;\n",
              "  }\n",
              "\n",
              "  .colab-df-quickchart:hover {\n",
              "    background-color: var(--hover-bg-color);\n",
              "    box-shadow: 0 1px 2px rgba(60, 64, 67, 0.3), 0 1px 3px 1px rgba(60, 64, 67, 0.15);\n",
              "    fill: var(--button-hover-fill-color);\n",
              "  }\n",
              "\n",
              "  .colab-df-quickchart-complete:disabled,\n",
              "  .colab-df-quickchart-complete:disabled:hover {\n",
              "    background-color: var(--disabled-bg-color);\n",
              "    fill: var(--disabled-fill-color);\n",
              "    box-shadow: none;\n",
              "  }\n",
              "\n",
              "  .colab-df-spinner {\n",
              "    border: 2px solid var(--fill-color);\n",
              "    border-color: transparent;\n",
              "    border-bottom-color: var(--fill-color);\n",
              "    animation:\n",
              "      spin 1s steps(1) infinite;\n",
              "  }\n",
              "\n",
              "  @keyframes spin {\n",
              "    0% {\n",
              "      border-color: transparent;\n",
              "      border-bottom-color: var(--fill-color);\n",
              "      border-left-color: var(--fill-color);\n",
              "    }\n",
              "    20% {\n",
              "      border-color: transparent;\n",
              "      border-left-color: var(--fill-color);\n",
              "      border-top-color: var(--fill-color);\n",
              "    }\n",
              "    30% {\n",
              "      border-color: transparent;\n",
              "      border-left-color: var(--fill-color);\n",
              "      border-top-color: var(--fill-color);\n",
              "      border-right-color: var(--fill-color);\n",
              "    }\n",
              "    40% {\n",
              "      border-color: transparent;\n",
              "      border-right-color: var(--fill-color);\n",
              "      border-top-color: var(--fill-color);\n",
              "    }\n",
              "    60% {\n",
              "      border-color: transparent;\n",
              "      border-right-color: var(--fill-color);\n",
              "    }\n",
              "    80% {\n",
              "      border-color: transparent;\n",
              "      border-right-color: var(--fill-color);\n",
              "      border-bottom-color: var(--fill-color);\n",
              "    }\n",
              "    90% {\n",
              "      border-color: transparent;\n",
              "      border-bottom-color: var(--fill-color);\n",
              "    }\n",
              "  }\n",
              "</style>\n",
              "\n",
              "      <script>\n",
              "        async function quickchart(key) {\n",
              "          const quickchartButtonEl =\n",
              "            document.querySelector('#' + key + ' button');\n",
              "          quickchartButtonEl.disabled = true;  // To prevent multiple clicks.\n",
              "          quickchartButtonEl.classList.add('colab-df-spinner');\n",
              "          try {\n",
              "            const charts = await google.colab.kernel.invokeFunction(\n",
              "                'suggestCharts', [key], {});\n",
              "          } catch (error) {\n",
              "            console.error('Error during call to suggestCharts:', error);\n",
              "          }\n",
              "          quickchartButtonEl.classList.remove('colab-df-spinner');\n",
              "          quickchartButtonEl.classList.add('colab-df-quickchart-complete');\n",
              "        }\n",
              "        (() => {\n",
              "          let quickchartButtonEl =\n",
              "            document.querySelector('#df-0c7131d8-5fb4-4348-83b8-9d508b853a13 button');\n",
              "          quickchartButtonEl.style.display =\n",
              "            google.colab.kernel.accessAllowed ? 'block' : 'none';\n",
              "        })();\n",
              "      </script>\n",
              "    </div>\n",
              "\n",
              "    </div>\n",
              "  </div>\n"
            ],
            "application/vnd.google.colaboratory.intrinsic+json": {
              "type": "dataframe",
              "summary": "{\n  \"name\": \"pd\",\n  \"rows\": 4,\n  \"fields\": [\n    {\n      \"column\": \"Nilai yang Kosong\",\n      \"properties\": {\n        \"dtype\": \"number\",\n        \"std\": 0,\n        \"min\": 0,\n        \"max\": 0,\n        \"num_unique_values\": 1,\n        \"samples\": [\n          0\n        ],\n        \"semantic_type\": \"\",\n        \"description\": \"\"\n      }\n    }\n  ]\n}"
            }
          },
          "metadata": {},
          "execution_count": 89
        }
      ]
    },
    {
      "cell_type": "markdown",
      "source": [
        "Pada dataset tidak terdapat missing values."
      ],
      "metadata": {
        "id": "E9PsPWd7bO27"
      }
    },
    {
      "cell_type": "markdown",
      "source": [
        "## Mengecek Duplikasi Data"
      ],
      "metadata": {
        "id": "iOYbel9wbSve"
      }
    },
    {
      "cell_type": "code",
      "source": [
        "duplicate_rows = df[df.duplicated()]\n",
        "print(f\"Jumlah baris duplikat: {len(duplicate_rows)}\")\n",
        "print(duplicate_rows.head())"
      ],
      "metadata": {
        "colab": {
          "base_uri": "https://localhost:8080/"
        },
        "id": "hdo7aVYpbV8D",
        "outputId": "45060376-0468-4666-becf-ccf50d2efbc9"
      },
      "execution_count": 90,
      "outputs": [
        {
          "output_type": "stream",
          "name": "stdout",
          "text": [
            "Jumlah baris duplikat: 46\n",
            "                                             book_title     book_author  \\\n",
            "179                                   Gravity's Rainbow  Thomas Pynchon   \n",
            "838                                The Crying of Lot 49  Thomas Pynchon   \n",
            "1009  The Curious Incident of the Dog in the Night-Time     Mark Haddon   \n",
            "1161               A Short History of Nearly Everything     Bill Bryson   \n",
            "1742                           Cry  the Beloved Country      Alan Paton   \n",
            "\n",
            "     language_code         publisher  \n",
            "179            eng     Penguin Books  \n",
            "838            eng  Harper Perennial  \n",
            "1009           eng           Vintage  \n",
            "1161           eng    Broadway Books  \n",
            "1742           eng          Scribner  \n"
          ]
        }
      ]
    },
    {
      "cell_type": "markdown",
      "source": [
        "Karena terdapat duplikasi data maka dihapus"
      ],
      "metadata": {
        "id": "d1pK9oAbXTqf"
      }
    },
    {
      "cell_type": "code",
      "source": [
        "df.drop_duplicates(inplace=True)\n",
        "print(f\"Jumlah baris setelah menghapus duplikat: {len(df)}\")\n",
        "df.head()"
      ],
      "metadata": {
        "colab": {
          "base_uri": "https://localhost:8080/",
          "height": 224
        },
        "id": "D7FuGxDRWHhs",
        "outputId": "0644ed07-90bd-4925-d8c2-8369256e908f"
      },
      "execution_count": 91,
      "outputs": [
        {
          "output_type": "stream",
          "name": "stdout",
          "text": [
            "Jumlah baris setelah menghapus duplikat: 11073\n"
          ]
        },
        {
          "output_type": "execute_result",
          "data": {
            "text/plain": [
              "                                          book_title  \\\n",
              "0  Harry Potter and the Half-Blood Prince (Harry ...   \n",
              "1  Harry Potter and the Order of the Phoenix (Har...   \n",
              "2  Harry Potter and the Chamber of Secrets (Harry...   \n",
              "3  Harry Potter and the Prisoner of Azkaban (Harr...   \n",
              "4  Harry Potter Boxed Set  Books 1-5 (Harry Potte...   \n",
              "\n",
              "                  book_author language_code        publisher  \n",
              "0  J.K. Rowling/Mary GrandPré           eng  Scholastic Inc.  \n",
              "1  J.K. Rowling/Mary GrandPré           eng  Scholastic Inc.  \n",
              "2                J.K. Rowling           eng       Scholastic  \n",
              "3  J.K. Rowling/Mary GrandPré           eng  Scholastic Inc.  \n",
              "4  J.K. Rowling/Mary GrandPré           eng       Scholastic  "
            ],
            "text/html": [
              "\n",
              "  <div id=\"df-c67e5d2d-880c-4320-b0f5-827cc29883f8\" class=\"colab-df-container\">\n",
              "    <div>\n",
              "<style scoped>\n",
              "    .dataframe tbody tr th:only-of-type {\n",
              "        vertical-align: middle;\n",
              "    }\n",
              "\n",
              "    .dataframe tbody tr th {\n",
              "        vertical-align: top;\n",
              "    }\n",
              "\n",
              "    .dataframe thead th {\n",
              "        text-align: right;\n",
              "    }\n",
              "</style>\n",
              "<table border=\"1\" class=\"dataframe\">\n",
              "  <thead>\n",
              "    <tr style=\"text-align: right;\">\n",
              "      <th></th>\n",
              "      <th>book_title</th>\n",
              "      <th>book_author</th>\n",
              "      <th>language_code</th>\n",
              "      <th>publisher</th>\n",
              "    </tr>\n",
              "  </thead>\n",
              "  <tbody>\n",
              "    <tr>\n",
              "      <th>0</th>\n",
              "      <td>Harry Potter and the Half-Blood Prince (Harry ...</td>\n",
              "      <td>J.K. Rowling/Mary GrandPré</td>\n",
              "      <td>eng</td>\n",
              "      <td>Scholastic Inc.</td>\n",
              "    </tr>\n",
              "    <tr>\n",
              "      <th>1</th>\n",
              "      <td>Harry Potter and the Order of the Phoenix (Har...</td>\n",
              "      <td>J.K. Rowling/Mary GrandPré</td>\n",
              "      <td>eng</td>\n",
              "      <td>Scholastic Inc.</td>\n",
              "    </tr>\n",
              "    <tr>\n",
              "      <th>2</th>\n",
              "      <td>Harry Potter and the Chamber of Secrets (Harry...</td>\n",
              "      <td>J.K. Rowling</td>\n",
              "      <td>eng</td>\n",
              "      <td>Scholastic</td>\n",
              "    </tr>\n",
              "    <tr>\n",
              "      <th>3</th>\n",
              "      <td>Harry Potter and the Prisoner of Azkaban (Harr...</td>\n",
              "      <td>J.K. Rowling/Mary GrandPré</td>\n",
              "      <td>eng</td>\n",
              "      <td>Scholastic Inc.</td>\n",
              "    </tr>\n",
              "    <tr>\n",
              "      <th>4</th>\n",
              "      <td>Harry Potter Boxed Set  Books 1-5 (Harry Potte...</td>\n",
              "      <td>J.K. Rowling/Mary GrandPré</td>\n",
              "      <td>eng</td>\n",
              "      <td>Scholastic</td>\n",
              "    </tr>\n",
              "  </tbody>\n",
              "</table>\n",
              "</div>\n",
              "    <div class=\"colab-df-buttons\">\n",
              "\n",
              "  <div class=\"colab-df-container\">\n",
              "    <button class=\"colab-df-convert\" onclick=\"convertToInteractive('df-c67e5d2d-880c-4320-b0f5-827cc29883f8')\"\n",
              "            title=\"Convert this dataframe to an interactive table.\"\n",
              "            style=\"display:none;\">\n",
              "\n",
              "  <svg xmlns=\"http://www.w3.org/2000/svg\" height=\"24px\" viewBox=\"0 -960 960 960\">\n",
              "    <path d=\"M120-120v-720h720v720H120Zm60-500h600v-160H180v160Zm220 220h160v-160H400v160Zm0 220h160v-160H400v160ZM180-400h160v-160H180v160Zm440 0h160v-160H620v160ZM180-180h160v-160H180v160Zm440 0h160v-160H620v160Z\"/>\n",
              "  </svg>\n",
              "    </button>\n",
              "\n",
              "  <style>\n",
              "    .colab-df-container {\n",
              "      display:flex;\n",
              "      gap: 12px;\n",
              "    }\n",
              "\n",
              "    .colab-df-convert {\n",
              "      background-color: #E8F0FE;\n",
              "      border: none;\n",
              "      border-radius: 50%;\n",
              "      cursor: pointer;\n",
              "      display: none;\n",
              "      fill: #1967D2;\n",
              "      height: 32px;\n",
              "      padding: 0 0 0 0;\n",
              "      width: 32px;\n",
              "    }\n",
              "\n",
              "    .colab-df-convert:hover {\n",
              "      background-color: #E2EBFA;\n",
              "      box-shadow: 0px 1px 2px rgba(60, 64, 67, 0.3), 0px 1px 3px 1px rgba(60, 64, 67, 0.15);\n",
              "      fill: #174EA6;\n",
              "    }\n",
              "\n",
              "    .colab-df-buttons div {\n",
              "      margin-bottom: 4px;\n",
              "    }\n",
              "\n",
              "    [theme=dark] .colab-df-convert {\n",
              "      background-color: #3B4455;\n",
              "      fill: #D2E3FC;\n",
              "    }\n",
              "\n",
              "    [theme=dark] .colab-df-convert:hover {\n",
              "      background-color: #434B5C;\n",
              "      box-shadow: 0px 1px 3px 1px rgba(0, 0, 0, 0.15);\n",
              "      filter: drop-shadow(0px 1px 2px rgba(0, 0, 0, 0.3));\n",
              "      fill: #FFFFFF;\n",
              "    }\n",
              "  </style>\n",
              "\n",
              "    <script>\n",
              "      const buttonEl =\n",
              "        document.querySelector('#df-c67e5d2d-880c-4320-b0f5-827cc29883f8 button.colab-df-convert');\n",
              "      buttonEl.style.display =\n",
              "        google.colab.kernel.accessAllowed ? 'block' : 'none';\n",
              "\n",
              "      async function convertToInteractive(key) {\n",
              "        const element = document.querySelector('#df-c67e5d2d-880c-4320-b0f5-827cc29883f8');\n",
              "        const dataTable =\n",
              "          await google.colab.kernel.invokeFunction('convertToInteractive',\n",
              "                                                    [key], {});\n",
              "        if (!dataTable) return;\n",
              "\n",
              "        const docLinkHtml = 'Like what you see? Visit the ' +\n",
              "          '<a target=\"_blank\" href=https://colab.research.google.com/notebooks/data_table.ipynb>data table notebook</a>'\n",
              "          + ' to learn more about interactive tables.';\n",
              "        element.innerHTML = '';\n",
              "        dataTable['output_type'] = 'display_data';\n",
              "        await google.colab.output.renderOutput(dataTable, element);\n",
              "        const docLink = document.createElement('div');\n",
              "        docLink.innerHTML = docLinkHtml;\n",
              "        element.appendChild(docLink);\n",
              "      }\n",
              "    </script>\n",
              "  </div>\n",
              "\n",
              "\n",
              "    <div id=\"df-e10a83e5-ce10-4ec3-8c8b-92d18661cad3\">\n",
              "      <button class=\"colab-df-quickchart\" onclick=\"quickchart('df-e10a83e5-ce10-4ec3-8c8b-92d18661cad3')\"\n",
              "                title=\"Suggest charts\"\n",
              "                style=\"display:none;\">\n",
              "\n",
              "<svg xmlns=\"http://www.w3.org/2000/svg\" height=\"24px\"viewBox=\"0 0 24 24\"\n",
              "     width=\"24px\">\n",
              "    <g>\n",
              "        <path d=\"M19 3H5c-1.1 0-2 .9-2 2v14c0 1.1.9 2 2 2h14c1.1 0 2-.9 2-2V5c0-1.1-.9-2-2-2zM9 17H7v-7h2v7zm4 0h-2V7h2v10zm4 0h-2v-4h2v4z\"/>\n",
              "    </g>\n",
              "</svg>\n",
              "      </button>\n",
              "\n",
              "<style>\n",
              "  .colab-df-quickchart {\n",
              "      --bg-color: #E8F0FE;\n",
              "      --fill-color: #1967D2;\n",
              "      --hover-bg-color: #E2EBFA;\n",
              "      --hover-fill-color: #174EA6;\n",
              "      --disabled-fill-color: #AAA;\n",
              "      --disabled-bg-color: #DDD;\n",
              "  }\n",
              "\n",
              "  [theme=dark] .colab-df-quickchart {\n",
              "      --bg-color: #3B4455;\n",
              "      --fill-color: #D2E3FC;\n",
              "      --hover-bg-color: #434B5C;\n",
              "      --hover-fill-color: #FFFFFF;\n",
              "      --disabled-bg-color: #3B4455;\n",
              "      --disabled-fill-color: #666;\n",
              "  }\n",
              "\n",
              "  .colab-df-quickchart {\n",
              "    background-color: var(--bg-color);\n",
              "    border: none;\n",
              "    border-radius: 50%;\n",
              "    cursor: pointer;\n",
              "    display: none;\n",
              "    fill: var(--fill-color);\n",
              "    height: 32px;\n",
              "    padding: 0;\n",
              "    width: 32px;\n",
              "  }\n",
              "\n",
              "  .colab-df-quickchart:hover {\n",
              "    background-color: var(--hover-bg-color);\n",
              "    box-shadow: 0 1px 2px rgba(60, 64, 67, 0.3), 0 1px 3px 1px rgba(60, 64, 67, 0.15);\n",
              "    fill: var(--button-hover-fill-color);\n",
              "  }\n",
              "\n",
              "  .colab-df-quickchart-complete:disabled,\n",
              "  .colab-df-quickchart-complete:disabled:hover {\n",
              "    background-color: var(--disabled-bg-color);\n",
              "    fill: var(--disabled-fill-color);\n",
              "    box-shadow: none;\n",
              "  }\n",
              "\n",
              "  .colab-df-spinner {\n",
              "    border: 2px solid var(--fill-color);\n",
              "    border-color: transparent;\n",
              "    border-bottom-color: var(--fill-color);\n",
              "    animation:\n",
              "      spin 1s steps(1) infinite;\n",
              "  }\n",
              "\n",
              "  @keyframes spin {\n",
              "    0% {\n",
              "      border-color: transparent;\n",
              "      border-bottom-color: var(--fill-color);\n",
              "      border-left-color: var(--fill-color);\n",
              "    }\n",
              "    20% {\n",
              "      border-color: transparent;\n",
              "      border-left-color: var(--fill-color);\n",
              "      border-top-color: var(--fill-color);\n",
              "    }\n",
              "    30% {\n",
              "      border-color: transparent;\n",
              "      border-left-color: var(--fill-color);\n",
              "      border-top-color: var(--fill-color);\n",
              "      border-right-color: var(--fill-color);\n",
              "    }\n",
              "    40% {\n",
              "      border-color: transparent;\n",
              "      border-right-color: var(--fill-color);\n",
              "      border-top-color: var(--fill-color);\n",
              "    }\n",
              "    60% {\n",
              "      border-color: transparent;\n",
              "      border-right-color: var(--fill-color);\n",
              "    }\n",
              "    80% {\n",
              "      border-color: transparent;\n",
              "      border-right-color: var(--fill-color);\n",
              "      border-bottom-color: var(--fill-color);\n",
              "    }\n",
              "    90% {\n",
              "      border-color: transparent;\n",
              "      border-bottom-color: var(--fill-color);\n",
              "    }\n",
              "  }\n",
              "</style>\n",
              "\n",
              "      <script>\n",
              "        async function quickchart(key) {\n",
              "          const quickchartButtonEl =\n",
              "            document.querySelector('#' + key + ' button');\n",
              "          quickchartButtonEl.disabled = true;  // To prevent multiple clicks.\n",
              "          quickchartButtonEl.classList.add('colab-df-spinner');\n",
              "          try {\n",
              "            const charts = await google.colab.kernel.invokeFunction(\n",
              "                'suggestCharts', [key], {});\n",
              "          } catch (error) {\n",
              "            console.error('Error during call to suggestCharts:', error);\n",
              "          }\n",
              "          quickchartButtonEl.classList.remove('colab-df-spinner');\n",
              "          quickchartButtonEl.classList.add('colab-df-quickchart-complete');\n",
              "        }\n",
              "        (() => {\n",
              "          let quickchartButtonEl =\n",
              "            document.querySelector('#df-e10a83e5-ce10-4ec3-8c8b-92d18661cad3 button');\n",
              "          quickchartButtonEl.style.display =\n",
              "            google.colab.kernel.accessAllowed ? 'block' : 'none';\n",
              "        })();\n",
              "      </script>\n",
              "    </div>\n",
              "\n",
              "    </div>\n",
              "  </div>\n"
            ],
            "application/vnd.google.colaboratory.intrinsic+json": {
              "type": "dataframe",
              "variable_name": "df",
              "summary": "{\n  \"name\": \"df\",\n  \"rows\": 11073,\n  \"fields\": [\n    {\n      \"column\": \"book_title\",\n      \"properties\": {\n        \"dtype\": \"string\",\n        \"num_unique_values\": 10344,\n        \"samples\": [\n          \"A Framework for Understanding Poverty\",\n          \"The Campfire Collection: Spine-tingling Tales to Tell in the Dark\",\n          \"Jarka Ruus (High Druid of Shannara  #1)\"\n        ],\n        \"semantic_type\": \"\",\n        \"description\": \"\"\n      }\n    },\n    {\n      \"column\": \"book_author\",\n      \"properties\": {\n        \"dtype\": \"string\",\n        \"num_unique_values\": 6635,\n        \"samples\": [\n          \"Rumer Godden/Jean Primrose\",\n          \"John Lewis Gaddis\",\n          \"Vera John-Steiner\"\n        ],\n        \"semantic_type\": \"\",\n        \"description\": \"\"\n      }\n    },\n    {\n      \"column\": \"language_code\",\n      \"properties\": {\n        \"dtype\": \"category\",\n        \"num_unique_values\": 27,\n        \"samples\": [\n          \"en-CA\",\n          \"zho\",\n          \"ger\"\n        ],\n        \"semantic_type\": \"\",\n        \"description\": \"\"\n      }\n    },\n    {\n      \"column\": \"publisher\",\n      \"properties\": {\n        \"dtype\": \"category\",\n        \"num_unique_values\": 2289,\n        \"samples\": [\n          \"Morrow\",\n          \"Penguin Global\",\n          \"Tauris Parke Paperbacks\"\n        ],\n        \"semantic_type\": \"\",\n        \"description\": \"\"\n      }\n    }\n  ]\n}"
            }
          },
          "metadata": {},
          "execution_count": 91
        }
      ]
    },
    {
      "cell_type": "code",
      "source": [
        "# Concatenate 'title', 'author', 'language_code', 'publisher' into one string column\n",
        "df['combined_features'] = df['book_title'] + \" \" + df['book_author'] + \" \" + df['language_code'] + \" \" + df['publisher']"
      ],
      "metadata": {
        "id": "_7ZhYWGoib3e"
      },
      "execution_count": 92,
      "outputs": []
    },
    {
      "cell_type": "markdown",
      "source": [
        "Menggabungkan peubah yang dipilih."
      ],
      "metadata": {
        "id": "DQHj09Wcz0ZZ"
      }
    },
    {
      "cell_type": "markdown",
      "source": [
        "## TF-IDF Vectorizer"
      ],
      "metadata": {
        "id": "G0Vm1KpYwj-k"
      }
    },
    {
      "cell_type": "markdown",
      "source": [
        "TF-IDF Vektoctorizer digunakan untuk mengubah teks menjadi vektor."
      ],
      "metadata": {
        "id": "IqUBjbu30LaI"
      }
    },
    {
      "cell_type": "code",
      "source": [
        "tfidf = TfidfVectorizer(stop_words='english')\n",
        "tfidf_matrix = tfidf.fit_transform(df['combined_features'])"
      ],
      "metadata": {
        "id": "7eGoWJj4wmua"
      },
      "execution_count": 93,
      "outputs": []
    },
    {
      "cell_type": "markdown",
      "source": [
        "# Modelling"
      ],
      "metadata": {
        "id": "5EW_ps-Cvpq5"
      }
    },
    {
      "cell_type": "markdown",
      "source": [
        "## Cosine Similarity"
      ],
      "metadata": {
        "id": "kQ9fdHf9if6D"
      }
    },
    {
      "cell_type": "markdown",
      "source": [
        "Menghitung cosine similarity antar buku berdasarkan peubah yang digabungkan."
      ],
      "metadata": {
        "id": "O1fI7ORT0TFT"
      }
    },
    {
      "cell_type": "code",
      "source": [
        "cosine_sim = cosine_similarity(tfidf_matrix)\n",
        "cosine_sim_df = pd.DataFrame(cosine_sim, index=df['book_title'], columns=df['book_title'])"
      ],
      "metadata": {
        "id": "Is2a7YMi1flC"
      },
      "execution_count": 94,
      "outputs": []
    },
    {
      "cell_type": "markdown",
      "source": [
        "## Fungsi Rekomendasi Buku"
      ],
      "metadata": {
        "id": "-oXXdQmu0YQi"
      }
    },
    {
      "cell_type": "markdown",
      "source": [
        "Digunakan untuk mengambil buku yang paling mirip dengan buku yang diberikan sebagai input berdasarkan kemiripan cosine."
      ],
      "metadata": {
        "id": "pi0EZJsI0bNm"
      }
    },
    {
      "cell_type": "code",
      "source": [
        "# Function to recommend books based on similarity\n",
        "def book_recommendations(nama_buku, similarity_data=cosine_sim_df, items=df[['book_title', 'book_author', 'language_code', 'publisher']], k=5):\n",
        "    \"\"\"\n",
        "    Rekomendasi buku berdasarkan kemiripan berdasarkan title, author, language, dan publisher\n",
        "\n",
        "    Parameter:\n",
        "    ---\n",
        "    nama_buku : tipe data string (str)\n",
        "                Nama Buku (index kemiripan dataframe)\n",
        "    similarity_data : tipe data pd.DataFrame (object)\n",
        "                      Kesamaan dataframe, simetrik, dengan buku sebagai indeks dan kolom\n",
        "    items : tipe data pd.DataFrame (object)\n",
        "            Mengandung nama, penulis, bahasa, dan penerbit untuk mendefinisikan kemiripan\n",
        "    k : tipe data integer (int)\n",
        "        Banyaknya jumlah rekomendasi yang diberikan\n",
        "    ---\n",
        "    \"\"\"\n",
        "    # Get the index of the books with highest similarity\n",
        "    index = similarity_data.loc[:, nama_buku].to_numpy().argpartition(range(-1, -k, -1))\n",
        "\n",
        "    # Retrieve the books with the highest similarity\n",
        "    closest = similarity_data.columns[index[-1:-(k+2):-1]]\n",
        "\n",
        "    # Drop the original book from the list of recommendations\n",
        "    closest = closest.drop(nama_buku, errors='ignore')\n",
        "\n",
        "    # Return the recommendations and the closest books\n",
        "    recommended_books = pd.DataFrame(closest).merge(items, on='book_title').head(k)\n",
        "\n",
        "    return recommended_books, closest.tolist()"
      ],
      "metadata": {
        "id": "38LvsuGV3Khy"
      },
      "execution_count": 95,
      "outputs": []
    },
    {
      "cell_type": "code",
      "source": [
        "# Example usage\n",
        "nama_buku = df.sample(1).iloc[0]\n",
        "print(\"Judul buku: \", nama_buku.book_title)\n",
        "print(\"Penulis buku: \", nama_buku.book_author)\n",
        "\n",
        "# Mengambil rekomendasi\n",
        "recommended_books, closest_books = book_recommendations(nama_buku.book_title, k=20)\n",
        "\n",
        "# Menampilkan rekomendasi\n",
        "print(\"Buku yang mungkin disukai berdasarkan kemiripan:\")\n",
        "recommended_books"
      ],
      "metadata": {
        "colab": {
          "base_uri": "https://localhost:8080/",
          "height": 731
        },
        "id": "ZP9gJ32xE-hx",
        "outputId": "37e34dd7-2b84-48cf-a96b-c07d5844e2cc"
      },
      "execution_count": 96,
      "outputs": [
        {
          "output_type": "stream",
          "name": "stdout",
          "text": [
            "Judul buku:  Paint it Black\n",
            "Penulis buku:  Janet Fitch\n",
            "Buku yang mungkin disukai berdasarkan kemiripan:\n"
          ]
        },
        {
          "output_type": "execute_result",
          "data": {
            "text/plain": [
              "                                           book_title  \\\n",
              "0                                      White Oleander   \n",
              "1                                      White Oleander   \n",
              "2                                      White Oleander   \n",
              "3                                      White Oleander   \n",
              "4                                        Nine Stories   \n",
              "5                                          The Terror   \n",
              "6               Black Veil: A Memoir with Digressions   \n",
              "7   The Harry Bosch Novels  Volume 1: The Black Ec...   \n",
              "8                                Skylight Confessions   \n",
              "9                                     The Beach House   \n",
              "10                                    The Beach House   \n",
              "11                                 The Night Gardener   \n",
              "12                                       Body Surfing   \n",
              "13                                        The Quickie   \n",
              "14                     Roses Are Red (Alex Cross  #6)   \n",
              "15                     Roses Are Red (Alex Cross  #6)   \n",
              "16                                          Mythology   \n",
              "17            School's Out—Forever (Maximum Ride  #2)   \n",
              "18                                       Judge & Jury   \n",
              "19              Consider the Lobster and Other Essays   \n",
              "\n",
              "                         book_author language_code                  publisher  \n",
              "0                        Janet Fitch           eng             Back Bay Books  \n",
              "1                        Janet Fitch           eng  Little  Brown and Company  \n",
              "2                        Janet Fitch           eng             Back Bay Books  \n",
              "3                        Janet Fitch           eng  Little  Brown and Company  \n",
              "4                      J.D. Salinger           eng  Little  Brown and Company  \n",
              "5                        Dan Simmons           eng  Little  Brown and Company  \n",
              "6                         Rick Moody           eng   Little Brown and Company  \n",
              "7                   Michael Connelly           eng    Little  Brown & Company  \n",
              "8                      Alice Hoffman           eng   Little Brown and Company  \n",
              "9     James Patterson/Peter de Jonge           eng   Grand Central Publishing  \n",
              "10    James Patterson/Peter de Jonge           eng  Little  Brown and Company  \n",
              "11                  George Pelecanos           eng   Little Brown and Company  \n",
              "12                      Anita Shreve           eng  Little  Brown and Company  \n",
              "13  James Patterson/Michael Ledwidge           eng  Little  Brown and Company  \n",
              "14                   James Patterson           eng                   Headline  \n",
              "15                   James Patterson           eng  Little  Brown and Company  \n",
              "16      Edith Hamilton/Steele Savage           eng  Little  Brown and Company  \n",
              "17                   James Patterson           eng  Little  Brown and Company  \n",
              "18      James Patterson/Andrew Gross           eng  Little  Brown and Company  \n",
              "19              David Foster Wallace           eng  Little  Brown and Company  "
            ],
            "text/html": [
              "\n",
              "  <div id=\"df-a125560a-0526-4a0c-945f-2fec2b84a03f\" class=\"colab-df-container\">\n",
              "    <div>\n",
              "<style scoped>\n",
              "    .dataframe tbody tr th:only-of-type {\n",
              "        vertical-align: middle;\n",
              "    }\n",
              "\n",
              "    .dataframe tbody tr th {\n",
              "        vertical-align: top;\n",
              "    }\n",
              "\n",
              "    .dataframe thead th {\n",
              "        text-align: right;\n",
              "    }\n",
              "</style>\n",
              "<table border=\"1\" class=\"dataframe\">\n",
              "  <thead>\n",
              "    <tr style=\"text-align: right;\">\n",
              "      <th></th>\n",
              "      <th>book_title</th>\n",
              "      <th>book_author</th>\n",
              "      <th>language_code</th>\n",
              "      <th>publisher</th>\n",
              "    </tr>\n",
              "  </thead>\n",
              "  <tbody>\n",
              "    <tr>\n",
              "      <th>0</th>\n",
              "      <td>White Oleander</td>\n",
              "      <td>Janet Fitch</td>\n",
              "      <td>eng</td>\n",
              "      <td>Back Bay Books</td>\n",
              "    </tr>\n",
              "    <tr>\n",
              "      <th>1</th>\n",
              "      <td>White Oleander</td>\n",
              "      <td>Janet Fitch</td>\n",
              "      <td>eng</td>\n",
              "      <td>Little  Brown and Company</td>\n",
              "    </tr>\n",
              "    <tr>\n",
              "      <th>2</th>\n",
              "      <td>White Oleander</td>\n",
              "      <td>Janet Fitch</td>\n",
              "      <td>eng</td>\n",
              "      <td>Back Bay Books</td>\n",
              "    </tr>\n",
              "    <tr>\n",
              "      <th>3</th>\n",
              "      <td>White Oleander</td>\n",
              "      <td>Janet Fitch</td>\n",
              "      <td>eng</td>\n",
              "      <td>Little  Brown and Company</td>\n",
              "    </tr>\n",
              "    <tr>\n",
              "      <th>4</th>\n",
              "      <td>Nine Stories</td>\n",
              "      <td>J.D. Salinger</td>\n",
              "      <td>eng</td>\n",
              "      <td>Little  Brown and Company</td>\n",
              "    </tr>\n",
              "    <tr>\n",
              "      <th>5</th>\n",
              "      <td>The Terror</td>\n",
              "      <td>Dan Simmons</td>\n",
              "      <td>eng</td>\n",
              "      <td>Little  Brown and Company</td>\n",
              "    </tr>\n",
              "    <tr>\n",
              "      <th>6</th>\n",
              "      <td>Black Veil: A Memoir with Digressions</td>\n",
              "      <td>Rick Moody</td>\n",
              "      <td>eng</td>\n",
              "      <td>Little Brown and Company</td>\n",
              "    </tr>\n",
              "    <tr>\n",
              "      <th>7</th>\n",
              "      <td>The Harry Bosch Novels  Volume 1: The Black Ec...</td>\n",
              "      <td>Michael Connelly</td>\n",
              "      <td>eng</td>\n",
              "      <td>Little  Brown &amp; Company</td>\n",
              "    </tr>\n",
              "    <tr>\n",
              "      <th>8</th>\n",
              "      <td>Skylight Confessions</td>\n",
              "      <td>Alice Hoffman</td>\n",
              "      <td>eng</td>\n",
              "      <td>Little Brown and Company</td>\n",
              "    </tr>\n",
              "    <tr>\n",
              "      <th>9</th>\n",
              "      <td>The Beach House</td>\n",
              "      <td>James Patterson/Peter de Jonge</td>\n",
              "      <td>eng</td>\n",
              "      <td>Grand Central Publishing</td>\n",
              "    </tr>\n",
              "    <tr>\n",
              "      <th>10</th>\n",
              "      <td>The Beach House</td>\n",
              "      <td>James Patterson/Peter de Jonge</td>\n",
              "      <td>eng</td>\n",
              "      <td>Little  Brown and Company</td>\n",
              "    </tr>\n",
              "    <tr>\n",
              "      <th>11</th>\n",
              "      <td>The Night Gardener</td>\n",
              "      <td>George Pelecanos</td>\n",
              "      <td>eng</td>\n",
              "      <td>Little Brown and Company</td>\n",
              "    </tr>\n",
              "    <tr>\n",
              "      <th>12</th>\n",
              "      <td>Body Surfing</td>\n",
              "      <td>Anita Shreve</td>\n",
              "      <td>eng</td>\n",
              "      <td>Little  Brown and Company</td>\n",
              "    </tr>\n",
              "    <tr>\n",
              "      <th>13</th>\n",
              "      <td>The Quickie</td>\n",
              "      <td>James Patterson/Michael Ledwidge</td>\n",
              "      <td>eng</td>\n",
              "      <td>Little  Brown and Company</td>\n",
              "    </tr>\n",
              "    <tr>\n",
              "      <th>14</th>\n",
              "      <td>Roses Are Red (Alex Cross  #6)</td>\n",
              "      <td>James Patterson</td>\n",
              "      <td>eng</td>\n",
              "      <td>Headline</td>\n",
              "    </tr>\n",
              "    <tr>\n",
              "      <th>15</th>\n",
              "      <td>Roses Are Red (Alex Cross  #6)</td>\n",
              "      <td>James Patterson</td>\n",
              "      <td>eng</td>\n",
              "      <td>Little  Brown and Company</td>\n",
              "    </tr>\n",
              "    <tr>\n",
              "      <th>16</th>\n",
              "      <td>Mythology</td>\n",
              "      <td>Edith Hamilton/Steele Savage</td>\n",
              "      <td>eng</td>\n",
              "      <td>Little  Brown and Company</td>\n",
              "    </tr>\n",
              "    <tr>\n",
              "      <th>17</th>\n",
              "      <td>School's Out—Forever (Maximum Ride  #2)</td>\n",
              "      <td>James Patterson</td>\n",
              "      <td>eng</td>\n",
              "      <td>Little  Brown and Company</td>\n",
              "    </tr>\n",
              "    <tr>\n",
              "      <th>18</th>\n",
              "      <td>Judge &amp; Jury</td>\n",
              "      <td>James Patterson/Andrew Gross</td>\n",
              "      <td>eng</td>\n",
              "      <td>Little  Brown and Company</td>\n",
              "    </tr>\n",
              "    <tr>\n",
              "      <th>19</th>\n",
              "      <td>Consider the Lobster and Other Essays</td>\n",
              "      <td>David Foster Wallace</td>\n",
              "      <td>eng</td>\n",
              "      <td>Little  Brown and Company</td>\n",
              "    </tr>\n",
              "  </tbody>\n",
              "</table>\n",
              "</div>\n",
              "    <div class=\"colab-df-buttons\">\n",
              "\n",
              "  <div class=\"colab-df-container\">\n",
              "    <button class=\"colab-df-convert\" onclick=\"convertToInteractive('df-a125560a-0526-4a0c-945f-2fec2b84a03f')\"\n",
              "            title=\"Convert this dataframe to an interactive table.\"\n",
              "            style=\"display:none;\">\n",
              "\n",
              "  <svg xmlns=\"http://www.w3.org/2000/svg\" height=\"24px\" viewBox=\"0 -960 960 960\">\n",
              "    <path d=\"M120-120v-720h720v720H120Zm60-500h600v-160H180v160Zm220 220h160v-160H400v160Zm0 220h160v-160H400v160ZM180-400h160v-160H180v160Zm440 0h160v-160H620v160ZM180-180h160v-160H180v160Zm440 0h160v-160H620v160Z\"/>\n",
              "  </svg>\n",
              "    </button>\n",
              "\n",
              "  <style>\n",
              "    .colab-df-container {\n",
              "      display:flex;\n",
              "      gap: 12px;\n",
              "    }\n",
              "\n",
              "    .colab-df-convert {\n",
              "      background-color: #E8F0FE;\n",
              "      border: none;\n",
              "      border-radius: 50%;\n",
              "      cursor: pointer;\n",
              "      display: none;\n",
              "      fill: #1967D2;\n",
              "      height: 32px;\n",
              "      padding: 0 0 0 0;\n",
              "      width: 32px;\n",
              "    }\n",
              "\n",
              "    .colab-df-convert:hover {\n",
              "      background-color: #E2EBFA;\n",
              "      box-shadow: 0px 1px 2px rgba(60, 64, 67, 0.3), 0px 1px 3px 1px rgba(60, 64, 67, 0.15);\n",
              "      fill: #174EA6;\n",
              "    }\n",
              "\n",
              "    .colab-df-buttons div {\n",
              "      margin-bottom: 4px;\n",
              "    }\n",
              "\n",
              "    [theme=dark] .colab-df-convert {\n",
              "      background-color: #3B4455;\n",
              "      fill: #D2E3FC;\n",
              "    }\n",
              "\n",
              "    [theme=dark] .colab-df-convert:hover {\n",
              "      background-color: #434B5C;\n",
              "      box-shadow: 0px 1px 3px 1px rgba(0, 0, 0, 0.15);\n",
              "      filter: drop-shadow(0px 1px 2px rgba(0, 0, 0, 0.3));\n",
              "      fill: #FFFFFF;\n",
              "    }\n",
              "  </style>\n",
              "\n",
              "    <script>\n",
              "      const buttonEl =\n",
              "        document.querySelector('#df-a125560a-0526-4a0c-945f-2fec2b84a03f button.colab-df-convert');\n",
              "      buttonEl.style.display =\n",
              "        google.colab.kernel.accessAllowed ? 'block' : 'none';\n",
              "\n",
              "      async function convertToInteractive(key) {\n",
              "        const element = document.querySelector('#df-a125560a-0526-4a0c-945f-2fec2b84a03f');\n",
              "        const dataTable =\n",
              "          await google.colab.kernel.invokeFunction('convertToInteractive',\n",
              "                                                    [key], {});\n",
              "        if (!dataTable) return;\n",
              "\n",
              "        const docLinkHtml = 'Like what you see? Visit the ' +\n",
              "          '<a target=\"_blank\" href=https://colab.research.google.com/notebooks/data_table.ipynb>data table notebook</a>'\n",
              "          + ' to learn more about interactive tables.';\n",
              "        element.innerHTML = '';\n",
              "        dataTable['output_type'] = 'display_data';\n",
              "        await google.colab.output.renderOutput(dataTable, element);\n",
              "        const docLink = document.createElement('div');\n",
              "        docLink.innerHTML = docLinkHtml;\n",
              "        element.appendChild(docLink);\n",
              "      }\n",
              "    </script>\n",
              "  </div>\n",
              "\n",
              "\n",
              "    <div id=\"df-28ead318-d588-48a1-bb7e-ea5e34e7e7c5\">\n",
              "      <button class=\"colab-df-quickchart\" onclick=\"quickchart('df-28ead318-d588-48a1-bb7e-ea5e34e7e7c5')\"\n",
              "                title=\"Suggest charts\"\n",
              "                style=\"display:none;\">\n",
              "\n",
              "<svg xmlns=\"http://www.w3.org/2000/svg\" height=\"24px\"viewBox=\"0 0 24 24\"\n",
              "     width=\"24px\">\n",
              "    <g>\n",
              "        <path d=\"M19 3H5c-1.1 0-2 .9-2 2v14c0 1.1.9 2 2 2h14c1.1 0 2-.9 2-2V5c0-1.1-.9-2-2-2zM9 17H7v-7h2v7zm4 0h-2V7h2v10zm4 0h-2v-4h2v4z\"/>\n",
              "    </g>\n",
              "</svg>\n",
              "      </button>\n",
              "\n",
              "<style>\n",
              "  .colab-df-quickchart {\n",
              "      --bg-color: #E8F0FE;\n",
              "      --fill-color: #1967D2;\n",
              "      --hover-bg-color: #E2EBFA;\n",
              "      --hover-fill-color: #174EA6;\n",
              "      --disabled-fill-color: #AAA;\n",
              "      --disabled-bg-color: #DDD;\n",
              "  }\n",
              "\n",
              "  [theme=dark] .colab-df-quickchart {\n",
              "      --bg-color: #3B4455;\n",
              "      --fill-color: #D2E3FC;\n",
              "      --hover-bg-color: #434B5C;\n",
              "      --hover-fill-color: #FFFFFF;\n",
              "      --disabled-bg-color: #3B4455;\n",
              "      --disabled-fill-color: #666;\n",
              "  }\n",
              "\n",
              "  .colab-df-quickchart {\n",
              "    background-color: var(--bg-color);\n",
              "    border: none;\n",
              "    border-radius: 50%;\n",
              "    cursor: pointer;\n",
              "    display: none;\n",
              "    fill: var(--fill-color);\n",
              "    height: 32px;\n",
              "    padding: 0;\n",
              "    width: 32px;\n",
              "  }\n",
              "\n",
              "  .colab-df-quickchart:hover {\n",
              "    background-color: var(--hover-bg-color);\n",
              "    box-shadow: 0 1px 2px rgba(60, 64, 67, 0.3), 0 1px 3px 1px rgba(60, 64, 67, 0.15);\n",
              "    fill: var(--button-hover-fill-color);\n",
              "  }\n",
              "\n",
              "  .colab-df-quickchart-complete:disabled,\n",
              "  .colab-df-quickchart-complete:disabled:hover {\n",
              "    background-color: var(--disabled-bg-color);\n",
              "    fill: var(--disabled-fill-color);\n",
              "    box-shadow: none;\n",
              "  }\n",
              "\n",
              "  .colab-df-spinner {\n",
              "    border: 2px solid var(--fill-color);\n",
              "    border-color: transparent;\n",
              "    border-bottom-color: var(--fill-color);\n",
              "    animation:\n",
              "      spin 1s steps(1) infinite;\n",
              "  }\n",
              "\n",
              "  @keyframes spin {\n",
              "    0% {\n",
              "      border-color: transparent;\n",
              "      border-bottom-color: var(--fill-color);\n",
              "      border-left-color: var(--fill-color);\n",
              "    }\n",
              "    20% {\n",
              "      border-color: transparent;\n",
              "      border-left-color: var(--fill-color);\n",
              "      border-top-color: var(--fill-color);\n",
              "    }\n",
              "    30% {\n",
              "      border-color: transparent;\n",
              "      border-left-color: var(--fill-color);\n",
              "      border-top-color: var(--fill-color);\n",
              "      border-right-color: var(--fill-color);\n",
              "    }\n",
              "    40% {\n",
              "      border-color: transparent;\n",
              "      border-right-color: var(--fill-color);\n",
              "      border-top-color: var(--fill-color);\n",
              "    }\n",
              "    60% {\n",
              "      border-color: transparent;\n",
              "      border-right-color: var(--fill-color);\n",
              "    }\n",
              "    80% {\n",
              "      border-color: transparent;\n",
              "      border-right-color: var(--fill-color);\n",
              "      border-bottom-color: var(--fill-color);\n",
              "    }\n",
              "    90% {\n",
              "      border-color: transparent;\n",
              "      border-bottom-color: var(--fill-color);\n",
              "    }\n",
              "  }\n",
              "</style>\n",
              "\n",
              "      <script>\n",
              "        async function quickchart(key) {\n",
              "          const quickchartButtonEl =\n",
              "            document.querySelector('#' + key + ' button');\n",
              "          quickchartButtonEl.disabled = true;  // To prevent multiple clicks.\n",
              "          quickchartButtonEl.classList.add('colab-df-spinner');\n",
              "          try {\n",
              "            const charts = await google.colab.kernel.invokeFunction(\n",
              "                'suggestCharts', [key], {});\n",
              "          } catch (error) {\n",
              "            console.error('Error during call to suggestCharts:', error);\n",
              "          }\n",
              "          quickchartButtonEl.classList.remove('colab-df-spinner');\n",
              "          quickchartButtonEl.classList.add('colab-df-quickchart-complete');\n",
              "        }\n",
              "        (() => {\n",
              "          let quickchartButtonEl =\n",
              "            document.querySelector('#df-28ead318-d588-48a1-bb7e-ea5e34e7e7c5 button');\n",
              "          quickchartButtonEl.style.display =\n",
              "            google.colab.kernel.accessAllowed ? 'block' : 'none';\n",
              "        })();\n",
              "      </script>\n",
              "    </div>\n",
              "\n",
              "  <div id=\"id_0b89278f-2705-4f0c-9a65-f615d09496e1\">\n",
              "    <style>\n",
              "      .colab-df-generate {\n",
              "        background-color: #E8F0FE;\n",
              "        border: none;\n",
              "        border-radius: 50%;\n",
              "        cursor: pointer;\n",
              "        display: none;\n",
              "        fill: #1967D2;\n",
              "        height: 32px;\n",
              "        padding: 0 0 0 0;\n",
              "        width: 32px;\n",
              "      }\n",
              "\n",
              "      .colab-df-generate:hover {\n",
              "        background-color: #E2EBFA;\n",
              "        box-shadow: 0px 1px 2px rgba(60, 64, 67, 0.3), 0px 1px 3px 1px rgba(60, 64, 67, 0.15);\n",
              "        fill: #174EA6;\n",
              "      }\n",
              "\n",
              "      [theme=dark] .colab-df-generate {\n",
              "        background-color: #3B4455;\n",
              "        fill: #D2E3FC;\n",
              "      }\n",
              "\n",
              "      [theme=dark] .colab-df-generate:hover {\n",
              "        background-color: #434B5C;\n",
              "        box-shadow: 0px 1px 3px 1px rgba(0, 0, 0, 0.15);\n",
              "        filter: drop-shadow(0px 1px 2px rgba(0, 0, 0, 0.3));\n",
              "        fill: #FFFFFF;\n",
              "      }\n",
              "    </style>\n",
              "    <button class=\"colab-df-generate\" onclick=\"generateWithVariable('recommended_books')\"\n",
              "            title=\"Generate code using this dataframe.\"\n",
              "            style=\"display:none;\">\n",
              "\n",
              "  <svg xmlns=\"http://www.w3.org/2000/svg\" height=\"24px\"viewBox=\"0 0 24 24\"\n",
              "       width=\"24px\">\n",
              "    <path d=\"M7,19H8.4L18.45,9,17,7.55,7,17.6ZM5,21V16.75L18.45,3.32a2,2,0,0,1,2.83,0l1.4,1.43a1.91,1.91,0,0,1,.58,1.4,1.91,1.91,0,0,1-.58,1.4L9.25,21ZM18.45,9,17,7.55Zm-12,3A5.31,5.31,0,0,0,4.9,8.1,5.31,5.31,0,0,0,1,6.5,5.31,5.31,0,0,0,4.9,4.9,5.31,5.31,0,0,0,6.5,1,5.31,5.31,0,0,0,8.1,4.9,5.31,5.31,0,0,0,12,6.5,5.46,5.46,0,0,0,6.5,12Z\"/>\n",
              "  </svg>\n",
              "    </button>\n",
              "    <script>\n",
              "      (() => {\n",
              "      const buttonEl =\n",
              "        document.querySelector('#id_0b89278f-2705-4f0c-9a65-f615d09496e1 button.colab-df-generate');\n",
              "      buttonEl.style.display =\n",
              "        google.colab.kernel.accessAllowed ? 'block' : 'none';\n",
              "\n",
              "      buttonEl.onclick = () => {\n",
              "        google.colab.notebook.generateWithVariable('recommended_books');\n",
              "      }\n",
              "      })();\n",
              "    </script>\n",
              "  </div>\n",
              "\n",
              "    </div>\n",
              "  </div>\n"
            ],
            "application/vnd.google.colaboratory.intrinsic+json": {
              "type": "dataframe",
              "variable_name": "recommended_books",
              "summary": "{\n  \"name\": \"recommended_books\",\n  \"rows\": 20,\n  \"fields\": [\n    {\n      \"column\": \"book_title\",\n      \"properties\": {\n        \"dtype\": \"string\",\n        \"num_unique_values\": 15,\n        \"samples\": [\n          \"The Quickie\",\n          \"Mythology\",\n          \"White Oleander\"\n        ],\n        \"semantic_type\": \"\",\n        \"description\": \"\"\n      }\n    },\n    {\n      \"column\": \"book_author\",\n      \"properties\": {\n        \"dtype\": \"string\",\n        \"num_unique_values\": 14,\n        \"samples\": [\n          \"James Patterson/Michael Ledwidge\",\n          \"Edith Hamilton/Steele Savage\",\n          \"Janet Fitch\"\n        ],\n        \"semantic_type\": \"\",\n        \"description\": \"\"\n      }\n    },\n    {\n      \"column\": \"language_code\",\n      \"properties\": {\n        \"dtype\": \"category\",\n        \"num_unique_values\": 1,\n        \"samples\": [\n          \"eng\"\n        ],\n        \"semantic_type\": \"\",\n        \"description\": \"\"\n      }\n    },\n    {\n      \"column\": \"publisher\",\n      \"properties\": {\n        \"dtype\": \"category\",\n        \"num_unique_values\": 6,\n        \"samples\": [\n          \"Back Bay Books\"\n        ],\n        \"semantic_type\": \"\",\n        \"description\": \"\"\n      }\n    }\n  ]\n}"
            }
          },
          "metadata": {},
          "execution_count": 96
        }
      ]
    },
    {
      "cell_type": "markdown",
      "source": [
        "Didapatkan hasil rekomendasi 20 buku teratas"
      ],
      "metadata": {
        "id": "CAULIxH75NSf"
      }
    },
    {
      "cell_type": "markdown",
      "source": [
        "# Evaluasi Precision@20"
      ],
      "metadata": {
        "id": "DfyMkfzBq7AK"
      }
    },
    {
      "cell_type": "code",
      "source": [
        "# Function to calculate Precision@k\n",
        "def precision_at_k(recommended_items, relevant_items, k):\n",
        "    \"\"\"\n",
        "    Menghitung Precision@k untuk satu pengguna.\n",
        "\n",
        "    Args:\n",
        "      recommended_items: List item yang direkomendasikan.\n",
        "      relevant_items: List item yang relevan bagi pengguna.\n",
        "      k: Jumlah rekomendasi teratas yang dipertimbangkan.\n",
        "\n",
        "    Returns:\n",
        "      Nilai Precision@k.\n",
        "    \"\"\"\n",
        "    recommended_at_k = recommended_items[:k]\n",
        "    relevant_at_k = [item for item in recommended_at_k if item in relevant_items]\n",
        "    return len(relevant_at_k) / k if k > 0 else 0\n",
        "\n",
        "# Evaluasi Precision@20\n",
        "relevant_items_for_example_user = closest_books\n",
        "recommended_items_for_example_user = recommended_books['book_title'].tolist()\n",
        "\n",
        "k_value = 20 # Evaluasi pada k=20\n",
        "\n",
        "precision_20 = precision_at_k(recommended_items_for_example_user, relevant_items_for_example_user, k_value)\n",
        "\n",
        "print(f\"Precision@{k_value} untuk buku '{nama_buku.book_title}': {precision_20:.2f}\")"
      ],
      "metadata": {
        "colab": {
          "base_uri": "https://localhost:8080/"
        },
        "id": "ubmUo3KlRYxb",
        "outputId": "706090fb-c54c-4c87-e9c7-2182fa9c6a50"
      },
      "execution_count": 97,
      "outputs": [
        {
          "output_type": "stream",
          "name": "stdout",
          "text": [
            "Precision@20 untuk buku 'Paint it Black': 1.00\n"
          ]
        }
      ]
    },
    {
      "cell_type": "markdown",
      "source": [
        "Hasil Precision@20 = 1.00 pada peubah gabungan (judul, penulis, bahasa, dan penerbit) berarti bahwa sistem sangat baik dalam memberikan rekomendasi yang relevan, dengan semua buku yang direkomendasikan memiliki kemiripan tinggi dengan buku yang diberikan berdasarkan gabungan berbagai peubah. Ini menunjukkan bahwa sistem sangat efisien dan akurat dalam menyarankan buku-buku yang paling mirip dengan buku yang diberikan oleh pengguna."
      ],
      "metadata": {
        "id": "O3ye_mAiZmoG"
      }
    },
    {
      "cell_type": "markdown",
      "source": [
        "# Evaluasi Setiap Peubah"
      ],
      "metadata": {
        "id": "C4vm-XMqYlYk"
      }
    },
    {
      "cell_type": "code",
      "source": [
        "features_to_evaluate = ['book_title', 'book_author', 'language_code', 'publisher']\n",
        "precision_results = {}\n",
        "df_eval = df.copy()\n",
        "\n",
        "\n",
        "for feature in features_to_evaluate:\n",
        "    print(f\"\\nEvaluating Precision@20 for feature: {feature}\")\n",
        "\n",
        "    df_eval['combined_features_single'] = df_eval[feature]\n",
        "\n",
        "    tfidf_single = TfidfVectorizer(stop_words='english')\n",
        "    tfidf_matrix_single = tfidf_single.fit_transform(df_eval['combined_features_single'])\n",
        "    cosine_sim_single = cosine_similarity(tfidf_matrix_single)\n",
        "    cosine_sim_df_single = pd.DataFrame(cosine_sim_single, index=df_eval['book_title'], columns=df_eval['book_title'])\n",
        "\n",
        "    recommended_books_single, closest_books_single = book_recommendations(\n",
        "        nama_buku.book_title,\n",
        "        similarity_data=cosine_sim_df_single,\n",
        "        items=df_eval[['book_title', 'book_author', 'language_code', 'publisher']],\n",
        "        k=20  # Use k=20 for evaluation\n",
        "    )\n",
        "\n",
        "    print(\"Buku yang mungkin disukai berdasarkan kemiripan (fitur tunggal):\")\n",
        "    print(recommended_books_single)\n",
        "\n",
        "    precision_single = precision_at_k(recommended_books_single['book_title'].tolist(), closest_books_single, k=20)\n",
        "    print(f\"Precision@20 for {feature}: {precision_single:.2f}\")\n",
        "\n",
        "    precision_results[feature] = precision_single\n",
        "\n",
        "precision_df = pd.DataFrame.from_dict(precision_results, orient='index', columns=['Precision@20'])\n",
        "\n",
        "print(\"\\nPrecision@20 based on combined features (evaluated per listed feature):\")\n",
        "display(precision_df)"
      ],
      "metadata": {
        "colab": {
          "base_uri": "https://localhost:8080/",
          "height": 1000
        },
        "id": "lIksiUD8YpHG",
        "outputId": "90e6700d-011a-4a1c-b3d3-db3cdab5bdca"
      },
      "execution_count": 98,
      "outputs": [
        {
          "output_type": "stream",
          "name": "stdout",
          "text": [
            "\n",
            "Evaluating Precision@20 for feature: book_title\n",
            "Buku yang mungkin disukai berdasarkan kemiripan (fitur tunggal):\n",
            "               book_title                             book_author  \\\n",
            "0          The Black Book  Orhan Pamuk/Maureen Freely/عین له غریب   \n",
            "1           Black Like Me                     John Howard Griffin   \n",
            "2      The Woman in Black                Susan Hill/John Lawrence   \n",
            "3           Red and Black                Stendhal/Robert M. Adams   \n",
            "4   The Red and the Black    Stendhal/Burton Raffel/Diane Johnson   \n",
            "5          Black and Blue                           Anna Quindlen   \n",
            "6            Black Beauty                             Anna Sewell   \n",
            "7            Black Beauty               Anna Sewell/Scott McKowen   \n",
            "8            Black Beauty                             Anna Sewell   \n",
            "9            Black Beauty               Anna Sewell/Scott McKowen   \n",
            "10            Black Water                       Joyce Carol Oates   \n",
            "11              Black Boy          Richard Wright/Edward P. Jones   \n",
            "12             Black Kiss                          Howard Chaykin   \n",
            "13             Black Dogs                              Ian McEwan   \n",
            "14             Black Hole                           Charles Burns   \n",
            "15         Black Mischief                            Evelyn Waugh   \n",
            "16           Black Sunday                          Thomas  Harris   \n",
            "17        The Black Sheep         Honoré de Balzac/Donald Adamson   \n",
            "18           Black Friday                         James Patterson   \n",
            "19    Rendezvous in Black        Cornell Woolrich/Richard Dooling   \n",
            "\n",
            "   language_code                  publisher  \n",
            "0            eng                    Vintage  \n",
            "1            eng              Berkley Books  \n",
            "2            eng  David R. Godine Publisher  \n",
            "3            eng     W. W. Norton & Company  \n",
            "4            eng             Modern Library  \n",
            "5            eng           Delta Publishing  \n",
            "6            eng      Scholastic Paperbacks  \n",
            "7          en-US                   Sterling  \n",
            "8            eng      Scholastic Paperbacks  \n",
            "9          en-US                   Sterling  \n",
            "10           eng                      Plume  \n",
            "11         en-US                     Harper  \n",
            "12           eng                 Eros Comix  \n",
            "13           eng                     Anchor  \n",
            "14           eng                   Pantheon  \n",
            "15           eng             Back Bay Books  \n",
            "16           eng                        NAL  \n",
            "17           eng           Penguin Classics  \n",
            "18           eng                     Vision  \n",
            "19           eng             Modern Library  \n",
            "Precision@20 for book_title: 1.00\n",
            "\n",
            "Evaluating Precision@20 for feature: book_author\n",
            "Buku yang mungkin disukai berdasarkan kemiripan (fitur tunggal):\n",
            "                                  book_title                   book_author  \\\n",
            "0                             White Oleander                   Janet Fitch   \n",
            "1                             White Oleander                   Janet Fitch   \n",
            "2                             White Oleander                   Janet Fitch   \n",
            "3                             White Oleander                   Janet Fitch   \n",
            "4               Hot Six (Stephanie Plum  #6)               Janet Evanovich   \n",
            "5               Hot Six (Stephanie Plum  #6)               Janet Evanovich   \n",
            "6            Hard Eight (Stephanie Plum  #8)  Janet Evanovich/Lorelei King   \n",
            "7            Hard Eight (Stephanie Plum  #8)               Janet Evanovich   \n",
            "8     Two for the Dough (Stephanie Plum  #2)               Janet Evanovich   \n",
            "9          To the Nines (Stephanie Plum  #9)               Janet Evanovich   \n",
            "10             Metro Girl (Alex Barnaby  #1)               Janet Evanovich   \n",
            "11             Metro Girl (Alex Barnaby  #1)    Janet Evanovich/C.J. Critt   \n",
            "12       Eleven on Top (Stephanie Plum  #11)               Janet Evanovich   \n",
            "13              Hot Six (Stephanie Plum  #6)               Janet Evanovich   \n",
            "14              Hot Six (Stephanie Plum  #6)               Janet Evanovich   \n",
            "15                                   Manhunt               Janet Evanovich   \n",
            "16                Smitten (Elsie Hawkins #2)               Janet Evanovich   \n",
            "17  Three to Get Deadly (Stephanie Plum  #3)               Janet Evanovich   \n",
            "18        Twelve Sharp (Stephanie Plum  #12)               Janet Evanovich   \n",
            "19  More Plums in One (Stephanie Plum  #4-6)               Janet Evanovich   \n",
            "\n",
            "   language_code                  publisher  \n",
            "0            eng             Back Bay Books  \n",
            "1            eng  Little  Brown and Company  \n",
            "2            eng             Back Bay Books  \n",
            "3            eng  Little  Brown and Company  \n",
            "4            eng    St. Martin's Paperbacks  \n",
            "5            eng              Pan MacMillan  \n",
            "6            eng         St. Martin's Press  \n",
            "7            eng            Headline Review  \n",
            "8          en-US         St. Martin's Press  \n",
            "9            eng         St. Martin's Press  \n",
            "10           eng                HarperTorch  \n",
            "11           eng                HarperAudio  \n",
            "12           eng         St. Martin's Press  \n",
            "13           eng    St. Martin's Paperbacks  \n",
            "14           eng              Pan MacMillan  \n",
            "15           eng                HarperTorch  \n",
            "16           eng                HarperTorch  \n",
            "17           eng         St. Martin's Press  \n",
            "18           eng         St. Martin's Press  \n",
            "19         en-US         St. Martin's Press  \n",
            "Precision@20 for book_author: 1.00\n",
            "\n",
            "Evaluating Precision@20 for feature: language_code\n",
            "Buku yang mungkin disukai berdasarkan kemiripan (fitur tunggal):\n",
            "                                           book_title  \\\n",
            "0                        Doctor Who: The Inside Story   \n",
            "1   Not Since Carrie: Forty Years of Broadway Musi...   \n",
            "2          Kitty Takes a Holiday (Kitty Norville  #3)   \n",
            "3                  The Best Short Stories of O. Henry   \n",
            "4   Amelia Bedelia 50th Anniversary Library: Ameli...   \n",
            "5                     Merry Christmas  Amelia Bedelia   \n",
            "6                         Amelia Bedelia Goes Camping   \n",
            "7        Amelia Bedelia and the Baby (Amelia Bedelia)   \n",
            "8                            Teach Us  Amelia Bedelia   \n",
            "9                            Amelia Bedelia Helps Out   \n",
            "10  $30 Film School: How to Write  Direct  Produce...   \n",
            "11  Salonica  City of Ghosts: Christians  Muslims ...   \n",
            "12       Farewell to Salonica: City at the Crossroads   \n",
            "13                      Neverwhere (London Below  #1)   \n",
            "14                           Neil Gaiman's Neverwhere   \n",
            "15                               Marjorie Morningstar   \n",
            "16                   The Perfume of the Lady in Black   \n",
            "17    Kitty and the Midnight Hour (Kitty Norville #1)   \n",
            "18          When Red Is Black (Inspector Chen Cao #3)   \n",
            "19                                               Echo   \n",
            "\n",
            "                                     book_author language_code  \\\n",
            "0                                   Gary Russell           eng   \n",
            "1                                 Ken Mandelbaum           eng   \n",
            "2                                  Carrie Vaughn           eng   \n",
            "3          O. Henry/Bennett Cerf/Van H. Cartmell           eng   \n",
            "4                           Peggy Parish/Various           eng   \n",
            "5                        Peggy Parish/Lynn Sweat           eng   \n",
            "6                        Peggy Parish/Lynn Sweat           eng   \n",
            "7                        Peggy Parish/Lynn Sweat           eng   \n",
            "8                        Peggy Parish/Lynn Sweat           eng   \n",
            "9                        Peggy Parish/Lynn Sweat           eng   \n",
            "10                               Michael W. Dean           eng   \n",
            "11                                  Mark Mazower           eng   \n",
            "12                      Leon Sciaky/Peter Sciaky           eng   \n",
            "13                                   Neil Gaiman           eng   \n",
            "14            Mike Carey/Glenn Fabry/Neil Gaiman           eng   \n",
            "15                                   Herman Wouk           eng   \n",
            "16  Gaston Leroux/Margaret Jull Costa/Terry Hale           eng   \n",
            "17                                 Carrie Vaughn           eng   \n",
            "18                                  Qiu Xiaolong           eng   \n",
            "19                           Francesca Lia Block           eng   \n",
            "\n",
            "                                      publisher  \n",
            "0                                     BBC Books  \n",
            "1                          St. Martin's Griffin  \n",
            "2                      Grand Central Publishing  \n",
            "3                                Modern Library  \n",
            "4                             Greenwillow Books  \n",
            "5                             Greenwillow Books  \n",
            "6                             Greenwillow Books  \n",
            "7   Turtleback Books Distributed by Demco Media  \n",
            "8                             Greenwillow Books  \n",
            "9                             Greenwillow Books  \n",
            "10                             Cengage Learning  \n",
            "11                                      Vintage  \n",
            "12                               Paul Dry Books  \n",
            "13                    William Morrow Paperbacks  \n",
            "14                                      Vertigo  \n",
            "15                               Back Bay Books  \n",
            "16                              Dedalus Limited  \n",
            "17                     Grand Central Publishing  \n",
            "18                                   Soho Crime  \n",
            "19                                   HarperTeen  \n",
            "Precision@20 for language_code: 1.00\n",
            "\n",
            "Evaluating Precision@20 for feature: publisher\n",
            "Buku yang mungkin disukai berdasarkan kemiripan (fitur tunggal):\n",
            "                                           book_title  \\\n",
            "0                       Gossip Girl (Gossip Girl  #1)   \n",
            "1   Julie and Julia: 365 Days  524 Recipes  1 Tiny...   \n",
            "2                                        Nine Stories   \n",
            "3                                          The Terror   \n",
            "4               Consider the Lobster and Other Essays   \n",
            "5   The Medici Giraffe and Other Tales of Exotic A...   \n",
            "6     Miracle on the 17th Green (Travis McKinley  #1)   \n",
            "7             School's Out—Forever (Maximum Ride  #2)   \n",
            "8                                  You've Been Warned   \n",
            "9                                         The Quickie   \n",
            "10           The 6th Target (Women's Murder Club  #6)   \n",
            "11                                       Judge & Jury   \n",
            "12                            Cross (Alex Cross  #12)   \n",
            "13  Mind Over Money: How to Match Your Emotional S...   \n",
            "14              Black Veil: A Memoir with Digressions   \n",
            "15                  Right Livelihoods: Three Novellas   \n",
            "16                               Skylight Confessions   \n",
            "17           The Camera (Ansel Adams Photography  #1)   \n",
            "18  Long Walk to Freedom: Autobiography of Nelson ...   \n",
            "19  Midnight Riders: The Story of the Allman Broth...   \n",
            "\n",
            "                               book_author language_code  \\\n",
            "0                      Cecily von Ziegesar           eng   \n",
            "1                             Julie Powell           eng   \n",
            "2                            J.D. Salinger           eng   \n",
            "3                              Dan Simmons           eng   \n",
            "4                     David Foster Wallace           eng   \n",
            "5                      Marina Belozerskaya           eng   \n",
            "6           James Patterson/Peter de Jonge           eng   \n",
            "7                          James Patterson           eng   \n",
            "8           James Patterson/Howard Roughan           eng   \n",
            "9         James Patterson/Michael Ledwidge           eng   \n",
            "10           James Patterson/Maxine Paetro           eng   \n",
            "11            James Patterson/Andrew Gross           eng   \n",
            "12                         James Patterson           eng   \n",
            "13         John W. Schott/Jean S. Arbeiter         en-US   \n",
            "14                              Rick Moody           eng   \n",
            "15                              Rick Moody           eng   \n",
            "16                           Alice Hoffman           eng   \n",
            "17          Ansel Adams/Robert Hardy Baker           eng   \n",
            "18  Nelson Mandela/Kofi Annan/Danny Glover           eng   \n",
            "19                          Scott  Freeman           eng   \n",
            "\n",
            "                    publisher  \n",
            "0   Little  Brown and Company  \n",
            "1    Little Brown and Company  \n",
            "2   Little  Brown and Company  \n",
            "3   Little  Brown and Company  \n",
            "4   Little  Brown and Company  \n",
            "5   Little  Brown and Company  \n",
            "6    Little Brown and Company  \n",
            "7   Little  Brown and Company  \n",
            "8    Little Brown and Company  \n",
            "9   Little  Brown and Company  \n",
            "10   Little Brown and Company  \n",
            "11  Little  Brown and Company  \n",
            "12   Little Brown and Company  \n",
            "13   Little Brown and Company  \n",
            "14   Little Brown and Company  \n",
            "15   Little Brown and Company  \n",
            "16   Little Brown and Company  \n",
            "17  Little  Brown and Company  \n",
            "18    Little  Brown & Company  \n",
            "19  Little  Brown and Company  \n",
            "Precision@20 for publisher: 1.00\n",
            "\n",
            "Precision@20 based on combined features (evaluated per listed feature):\n"
          ]
        },
        {
          "output_type": "display_data",
          "data": {
            "text/plain": [
              "               Precision@20\n",
              "book_title              1.0\n",
              "book_author             1.0\n",
              "language_code           1.0\n",
              "publisher               1.0"
            ],
            "text/html": [
              "\n",
              "  <div id=\"df-82ff40c5-0125-465e-a8d1-224c41fe6e35\" class=\"colab-df-container\">\n",
              "    <div>\n",
              "<style scoped>\n",
              "    .dataframe tbody tr th:only-of-type {\n",
              "        vertical-align: middle;\n",
              "    }\n",
              "\n",
              "    .dataframe tbody tr th {\n",
              "        vertical-align: top;\n",
              "    }\n",
              "\n",
              "    .dataframe thead th {\n",
              "        text-align: right;\n",
              "    }\n",
              "</style>\n",
              "<table border=\"1\" class=\"dataframe\">\n",
              "  <thead>\n",
              "    <tr style=\"text-align: right;\">\n",
              "      <th></th>\n",
              "      <th>Precision@20</th>\n",
              "    </tr>\n",
              "  </thead>\n",
              "  <tbody>\n",
              "    <tr>\n",
              "      <th>book_title</th>\n",
              "      <td>1.0</td>\n",
              "    </tr>\n",
              "    <tr>\n",
              "      <th>book_author</th>\n",
              "      <td>1.0</td>\n",
              "    </tr>\n",
              "    <tr>\n",
              "      <th>language_code</th>\n",
              "      <td>1.0</td>\n",
              "    </tr>\n",
              "    <tr>\n",
              "      <th>publisher</th>\n",
              "      <td>1.0</td>\n",
              "    </tr>\n",
              "  </tbody>\n",
              "</table>\n",
              "</div>\n",
              "    <div class=\"colab-df-buttons\">\n",
              "\n",
              "  <div class=\"colab-df-container\">\n",
              "    <button class=\"colab-df-convert\" onclick=\"convertToInteractive('df-82ff40c5-0125-465e-a8d1-224c41fe6e35')\"\n",
              "            title=\"Convert this dataframe to an interactive table.\"\n",
              "            style=\"display:none;\">\n",
              "\n",
              "  <svg xmlns=\"http://www.w3.org/2000/svg\" height=\"24px\" viewBox=\"0 -960 960 960\">\n",
              "    <path d=\"M120-120v-720h720v720H120Zm60-500h600v-160H180v160Zm220 220h160v-160H400v160Zm0 220h160v-160H400v160ZM180-400h160v-160H180v160Zm440 0h160v-160H620v160ZM180-180h160v-160H180v160Zm440 0h160v-160H620v160Z\"/>\n",
              "  </svg>\n",
              "    </button>\n",
              "\n",
              "  <style>\n",
              "    .colab-df-container {\n",
              "      display:flex;\n",
              "      gap: 12px;\n",
              "    }\n",
              "\n",
              "    .colab-df-convert {\n",
              "      background-color: #E8F0FE;\n",
              "      border: none;\n",
              "      border-radius: 50%;\n",
              "      cursor: pointer;\n",
              "      display: none;\n",
              "      fill: #1967D2;\n",
              "      height: 32px;\n",
              "      padding: 0 0 0 0;\n",
              "      width: 32px;\n",
              "    }\n",
              "\n",
              "    .colab-df-convert:hover {\n",
              "      background-color: #E2EBFA;\n",
              "      box-shadow: 0px 1px 2px rgba(60, 64, 67, 0.3), 0px 1px 3px 1px rgba(60, 64, 67, 0.15);\n",
              "      fill: #174EA6;\n",
              "    }\n",
              "\n",
              "    .colab-df-buttons div {\n",
              "      margin-bottom: 4px;\n",
              "    }\n",
              "\n",
              "    [theme=dark] .colab-df-convert {\n",
              "      background-color: #3B4455;\n",
              "      fill: #D2E3FC;\n",
              "    }\n",
              "\n",
              "    [theme=dark] .colab-df-convert:hover {\n",
              "      background-color: #434B5C;\n",
              "      box-shadow: 0px 1px 3px 1px rgba(0, 0, 0, 0.15);\n",
              "      filter: drop-shadow(0px 1px 2px rgba(0, 0, 0, 0.3));\n",
              "      fill: #FFFFFF;\n",
              "    }\n",
              "  </style>\n",
              "\n",
              "    <script>\n",
              "      const buttonEl =\n",
              "        document.querySelector('#df-82ff40c5-0125-465e-a8d1-224c41fe6e35 button.colab-df-convert');\n",
              "      buttonEl.style.display =\n",
              "        google.colab.kernel.accessAllowed ? 'block' : 'none';\n",
              "\n",
              "      async function convertToInteractive(key) {\n",
              "        const element = document.querySelector('#df-82ff40c5-0125-465e-a8d1-224c41fe6e35');\n",
              "        const dataTable =\n",
              "          await google.colab.kernel.invokeFunction('convertToInteractive',\n",
              "                                                    [key], {});\n",
              "        if (!dataTable) return;\n",
              "\n",
              "        const docLinkHtml = 'Like what you see? Visit the ' +\n",
              "          '<a target=\"_blank\" href=https://colab.research.google.com/notebooks/data_table.ipynb>data table notebook</a>'\n",
              "          + ' to learn more about interactive tables.';\n",
              "        element.innerHTML = '';\n",
              "        dataTable['output_type'] = 'display_data';\n",
              "        await google.colab.output.renderOutput(dataTable, element);\n",
              "        const docLink = document.createElement('div');\n",
              "        docLink.innerHTML = docLinkHtml;\n",
              "        element.appendChild(docLink);\n",
              "      }\n",
              "    </script>\n",
              "  </div>\n",
              "\n",
              "\n",
              "    <div id=\"df-15ea2437-ab1d-4eb1-bb60-240b0b0b4954\">\n",
              "      <button class=\"colab-df-quickchart\" onclick=\"quickchart('df-15ea2437-ab1d-4eb1-bb60-240b0b0b4954')\"\n",
              "                title=\"Suggest charts\"\n",
              "                style=\"display:none;\">\n",
              "\n",
              "<svg xmlns=\"http://www.w3.org/2000/svg\" height=\"24px\"viewBox=\"0 0 24 24\"\n",
              "     width=\"24px\">\n",
              "    <g>\n",
              "        <path d=\"M19 3H5c-1.1 0-2 .9-2 2v14c0 1.1.9 2 2 2h14c1.1 0 2-.9 2-2V5c0-1.1-.9-2-2-2zM9 17H7v-7h2v7zm4 0h-2V7h2v10zm4 0h-2v-4h2v4z\"/>\n",
              "    </g>\n",
              "</svg>\n",
              "      </button>\n",
              "\n",
              "<style>\n",
              "  .colab-df-quickchart {\n",
              "      --bg-color: #E8F0FE;\n",
              "      --fill-color: #1967D2;\n",
              "      --hover-bg-color: #E2EBFA;\n",
              "      --hover-fill-color: #174EA6;\n",
              "      --disabled-fill-color: #AAA;\n",
              "      --disabled-bg-color: #DDD;\n",
              "  }\n",
              "\n",
              "  [theme=dark] .colab-df-quickchart {\n",
              "      --bg-color: #3B4455;\n",
              "      --fill-color: #D2E3FC;\n",
              "      --hover-bg-color: #434B5C;\n",
              "      --hover-fill-color: #FFFFFF;\n",
              "      --disabled-bg-color: #3B4455;\n",
              "      --disabled-fill-color: #666;\n",
              "  }\n",
              "\n",
              "  .colab-df-quickchart {\n",
              "    background-color: var(--bg-color);\n",
              "    border: none;\n",
              "    border-radius: 50%;\n",
              "    cursor: pointer;\n",
              "    display: none;\n",
              "    fill: var(--fill-color);\n",
              "    height: 32px;\n",
              "    padding: 0;\n",
              "    width: 32px;\n",
              "  }\n",
              "\n",
              "  .colab-df-quickchart:hover {\n",
              "    background-color: var(--hover-bg-color);\n",
              "    box-shadow: 0 1px 2px rgba(60, 64, 67, 0.3), 0 1px 3px 1px rgba(60, 64, 67, 0.15);\n",
              "    fill: var(--button-hover-fill-color);\n",
              "  }\n",
              "\n",
              "  .colab-df-quickchart-complete:disabled,\n",
              "  .colab-df-quickchart-complete:disabled:hover {\n",
              "    background-color: var(--disabled-bg-color);\n",
              "    fill: var(--disabled-fill-color);\n",
              "    box-shadow: none;\n",
              "  }\n",
              "\n",
              "  .colab-df-spinner {\n",
              "    border: 2px solid var(--fill-color);\n",
              "    border-color: transparent;\n",
              "    border-bottom-color: var(--fill-color);\n",
              "    animation:\n",
              "      spin 1s steps(1) infinite;\n",
              "  }\n",
              "\n",
              "  @keyframes spin {\n",
              "    0% {\n",
              "      border-color: transparent;\n",
              "      border-bottom-color: var(--fill-color);\n",
              "      border-left-color: var(--fill-color);\n",
              "    }\n",
              "    20% {\n",
              "      border-color: transparent;\n",
              "      border-left-color: var(--fill-color);\n",
              "      border-top-color: var(--fill-color);\n",
              "    }\n",
              "    30% {\n",
              "      border-color: transparent;\n",
              "      border-left-color: var(--fill-color);\n",
              "      border-top-color: var(--fill-color);\n",
              "      border-right-color: var(--fill-color);\n",
              "    }\n",
              "    40% {\n",
              "      border-color: transparent;\n",
              "      border-right-color: var(--fill-color);\n",
              "      border-top-color: var(--fill-color);\n",
              "    }\n",
              "    60% {\n",
              "      border-color: transparent;\n",
              "      border-right-color: var(--fill-color);\n",
              "    }\n",
              "    80% {\n",
              "      border-color: transparent;\n",
              "      border-right-color: var(--fill-color);\n",
              "      border-bottom-color: var(--fill-color);\n",
              "    }\n",
              "    90% {\n",
              "      border-color: transparent;\n",
              "      border-bottom-color: var(--fill-color);\n",
              "    }\n",
              "  }\n",
              "</style>\n",
              "\n",
              "      <script>\n",
              "        async function quickchart(key) {\n",
              "          const quickchartButtonEl =\n",
              "            document.querySelector('#' + key + ' button');\n",
              "          quickchartButtonEl.disabled = true;  // To prevent multiple clicks.\n",
              "          quickchartButtonEl.classList.add('colab-df-spinner');\n",
              "          try {\n",
              "            const charts = await google.colab.kernel.invokeFunction(\n",
              "                'suggestCharts', [key], {});\n",
              "          } catch (error) {\n",
              "            console.error('Error during call to suggestCharts:', error);\n",
              "          }\n",
              "          quickchartButtonEl.classList.remove('colab-df-spinner');\n",
              "          quickchartButtonEl.classList.add('colab-df-quickchart-complete');\n",
              "        }\n",
              "        (() => {\n",
              "          let quickchartButtonEl =\n",
              "            document.querySelector('#df-15ea2437-ab1d-4eb1-bb60-240b0b0b4954 button');\n",
              "          quickchartButtonEl.style.display =\n",
              "            google.colab.kernel.accessAllowed ? 'block' : 'none';\n",
              "        })();\n",
              "      </script>\n",
              "    </div>\n",
              "\n",
              "  <div id=\"id_206cb4e9-9d04-48db-a1aa-75db261f3d39\">\n",
              "    <style>\n",
              "      .colab-df-generate {\n",
              "        background-color: #E8F0FE;\n",
              "        border: none;\n",
              "        border-radius: 50%;\n",
              "        cursor: pointer;\n",
              "        display: none;\n",
              "        fill: #1967D2;\n",
              "        height: 32px;\n",
              "        padding: 0 0 0 0;\n",
              "        width: 32px;\n",
              "      }\n",
              "\n",
              "      .colab-df-generate:hover {\n",
              "        background-color: #E2EBFA;\n",
              "        box-shadow: 0px 1px 2px rgba(60, 64, 67, 0.3), 0px 1px 3px 1px rgba(60, 64, 67, 0.15);\n",
              "        fill: #174EA6;\n",
              "      }\n",
              "\n",
              "      [theme=dark] .colab-df-generate {\n",
              "        background-color: #3B4455;\n",
              "        fill: #D2E3FC;\n",
              "      }\n",
              "\n",
              "      [theme=dark] .colab-df-generate:hover {\n",
              "        background-color: #434B5C;\n",
              "        box-shadow: 0px 1px 3px 1px rgba(0, 0, 0, 0.15);\n",
              "        filter: drop-shadow(0px 1px 2px rgba(0, 0, 0, 0.3));\n",
              "        fill: #FFFFFF;\n",
              "      }\n",
              "    </style>\n",
              "    <button class=\"colab-df-generate\" onclick=\"generateWithVariable('precision_df')\"\n",
              "            title=\"Generate code using this dataframe.\"\n",
              "            style=\"display:none;\">\n",
              "\n",
              "  <svg xmlns=\"http://www.w3.org/2000/svg\" height=\"24px\"viewBox=\"0 0 24 24\"\n",
              "       width=\"24px\">\n",
              "    <path d=\"M7,19H8.4L18.45,9,17,7.55,7,17.6ZM5,21V16.75L18.45,3.32a2,2,0,0,1,2.83,0l1.4,1.43a1.91,1.91,0,0,1,.58,1.4,1.91,1.91,0,0,1-.58,1.4L9.25,21ZM18.45,9,17,7.55Zm-12,3A5.31,5.31,0,0,0,4.9,8.1,5.31,5.31,0,0,0,1,6.5,5.31,5.31,0,0,0,4.9,4.9,5.31,5.31,0,0,0,6.5,1,5.31,5.31,0,0,0,8.1,4.9,5.31,5.31,0,0,0,12,6.5,5.46,5.46,0,0,0,6.5,12Z\"/>\n",
              "  </svg>\n",
              "    </button>\n",
              "    <script>\n",
              "      (() => {\n",
              "      const buttonEl =\n",
              "        document.querySelector('#id_206cb4e9-9d04-48db-a1aa-75db261f3d39 button.colab-df-generate');\n",
              "      buttonEl.style.display =\n",
              "        google.colab.kernel.accessAllowed ? 'block' : 'none';\n",
              "\n",
              "      buttonEl.onclick = () => {\n",
              "        google.colab.notebook.generateWithVariable('precision_df');\n",
              "      }\n",
              "      })();\n",
              "    </script>\n",
              "  </div>\n",
              "\n",
              "    </div>\n",
              "  </div>\n"
            ],
            "application/vnd.google.colaboratory.intrinsic+json": {
              "type": "dataframe",
              "variable_name": "precision_df",
              "summary": "{\n  \"name\": \"precision_df\",\n  \"rows\": 4,\n  \"fields\": [\n    {\n      \"column\": \"Precision@20\",\n      \"properties\": {\n        \"dtype\": \"number\",\n        \"std\": 0.0,\n        \"min\": 1.0,\n        \"max\": 1.0,\n        \"num_unique_values\": 1,\n        \"samples\": [\n          1.0\n        ],\n        \"semantic_type\": \"\",\n        \"description\": \"\"\n      }\n    }\n  ]\n}"
            }
          },
          "metadata": {}
        }
      ]
    },
    {
      "cell_type": "markdown",
      "source": [
        "Pada setiap fitur yang dievaluasi, yaitu book_title, book_author, language_code, dan publisher, nilai Precision@20 yang diperoleh adalah 1.00. Ini menunjukkan bahwa semua buku yang direkomendasikan berada dalam kategori yang relevan dengan buku yang diberikan, sesuai dengan fitur yang digunakan untuk menghitung kemiripan.\n",
        "\n",
        "Precision@20 adalah metrik evaluasi yang mengukur sejauh mana rekomendasi yang diberikan relevan dengan item yang seharusnya relevan berdasarkan urutan kemiripan yang dihitung oleh sistem. Precision@20 dihitung dengan membandingkan 20 rekomendasi teratas dengan buku-buku yang relevan. Nilai 1.00 menunjukkan bahwa semua 20 rekomendasi teratas adalah relevan menurut kriteria fitur yang diuji (judul, penulis, kode bahasa, dan penerbit)."
      ],
      "metadata": {
        "id": "KoCI_OAcUONR"
      }
    },
    {
      "cell_type": "markdown",
      "source": [
        "Precision@20 adalah metrik yang mengukur prosentase rekomendasi yang relevan di antara 20 buku teratas yang disarankan oleh sistem. Dalam konteks ini, nilai 1.00 berarti bahwa semua 20 rekomendasi teratas yang diberikan oleh sistem adalah relevan, sesuai dengan kriteria kemiripan yang dihitung berdasarkan peubah tertentu (judul, penulis, bahasa, dan penerbit).\n",
        "\n",
        "Evaluasi berdasarkan peubah:\n",
        "book_title (Judul Buku): Nilai Precision@20 untuk peubah judul adalah 1.00. Ini menunjukkan bahwa 20 buku yang direkomendasikan berdasarkan kesamaan judul semuanya relevan dengan buku yang diberikan.\n",
        "\n",
        "book_author (Penulis): Nilai Precision@20 untuk peubah penulis juga 1.00. Ini berarti bahwa 20 buku teratas yang direkomendasikan berdasarkan kemiripan penulis juga relevan.\n",
        "\n",
        "language_code (Kode Bahasa): Nilai Precision@20 untuk peubah kode bahasa juga 1.00. Ini menunjukkan bahwa rekomendasi buku berdasarkan kemiripan bahasa juga seluruhnya relevan.\n",
        "\n",
        "publisher (Penerbit): Nilai Precision@20 untuk peubah penerbit adalah 1.00. Hal ini menunjukkan bahwa buku-buku yang direkomendasikan berdasarkan kesamaan penerbit juga semuanya relevan.\n",
        "\n",
        "Interpretasi:\n",
        "Nilai Precision@20 yang tinggi (1.00) untuk setiap peubah (judul, penulis, bahasa, dan penerbit) menunjukkan bahwa sistem rekomendasi ini sangat akurat dalam menemukan buku yang relevan dengan buku yang diberikan berdasarkan kemiripan pada setiap peubah tersebut.\n",
        "\n",
        "Hasil ini mengindikasikan bahwa sistem rekomendasi sangat efektif dalam memanfaatkan berbagai informasi (judul, penulis, bahasa, dan penerbit) untuk menghasilkan rekomendasi yang sangat relevan dengan buku yang menjadi acuan.\n",
        "\n",
        "Semua 20 rekomendasi teratas untuk setiap peubah menunjukkan kemiripan yang sangat baik dengan buku yang diberikan. Dengan kata lain, sistem rekomendasi berhasil menyarankan buku-buku yang berkaitan erat dengan \"The Story of Philosophy: A Concise Introduction to the World's Greatest Thinkers and Their Ideas\", berdasarkan judul, penulis, kode bahasa, dan penerbit. Ini menunjukkan bahwa model rekomendasi yang digunakan cukup handal dalam menghasilkan rekomendasi yang relevan.\n",
        "\n",
        "\n",
        "\n",
        "\n",
        "\n",
        "\n",
        "\n"
      ],
      "metadata": {
        "id": "PixjclASZ6EI"
      }
    }
  ]
}